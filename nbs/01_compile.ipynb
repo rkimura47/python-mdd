{
 "cells": [
  {
   "cell_type": "markdown",
   "id": "5ad3e742-074f-4678-8241-dcbbabbe54cd",
   "metadata": {},
   "source": [
    "# compile\n",
    "\n",
    "> Functions to compile multivalued decision diagrams"
   ]
  },
  {
   "cell_type": "code",
   "execution_count": null,
   "id": "0c718b7b-dc65-4c85-83b3-d45d3c7a0698",
   "metadata": {},
   "outputs": [],
   "source": [
    "#| default_exp compile"
   ]
  },
  {
   "cell_type": "code",
   "execution_count": null,
   "id": "7106bb01-4a80-45e9-85cb-030c2f2880d1",
   "metadata": {},
   "outputs": [],
   "source": [
    "#| hide\n",
    "from nbdev.showdoc import *"
   ]
  },
  {
   "cell_type": "code",
   "execution_count": null,
   "id": "15e26118-357e-4361-b064-02aaa8d0d1da",
   "metadata": {},
   "outputs": [],
   "source": [
    "#| export\n",
    "from collections.abc import Callable, Collection\n",
    "from python_mdd.mdd import DEFAULT_MDD_NAME, MDD, MDDArc, MDDArcData, MDDNode, MDDNodeState\n",
    "from typing import Optional"
   ]
  },
  {
   "cell_type": "code",
   "execution_count": null,
   "id": "42b1fb75-4117-4a9e-a4c9-35a15b8128b5",
   "metadata": {},
   "outputs": [],
   "source": [
    "#| hide\n",
    "import ipytest\n",
    "import pytest"
   ]
  },
  {
   "cell_type": "code",
   "execution_count": null,
   "id": "1396e601-5754-4bf9-baeb-7f2164478fac",
   "metadata": {},
   "outputs": [],
   "source": [
    "#| hide\n",
    "ipytest.autoconfig(addopts=(\"-qq\", \"--color=yes\"))"
   ]
  },
  {
   "cell_type": "code",
   "execution_count": null,
   "id": "01717b62-1726-4e55-a8a0-dac162f5640f",
   "metadata": {},
   "outputs": [],
   "source": [
    "#| export\n",
    "def compile_top_down(\n",
    "    num_layers: int, # number of (arc) layers, i.e., variables\n",
    "    domain_function: Callable[[int], list[int]], # function specifying the domain of each layer\n",
    "    transition_function: Callable[[MDDNodeState, int, int], MDDNodeState], # function specifying the state transitions\n",
    "    arc_data_function: Callable[[MDDNodeState, int, int, MDDNodeState], MDDArcData], # function specifying arc data\n",
    "    root_state: MDDNodeState, # state of the root node\n",
    "    is_feasible: Callable[[MDDNodeState, int], bool], # function that determines whether a node state is feasible\n",
    "    max_width: Optional[Callable[[int], int]] = None, # function specifying the maximum width of each layer\n",
    "    merge_function: Optional[Callable[[Collection[MDDNodeState], int], MDDNodeState]] = None, # function that determines how to merge node states\n",
    "    arcdata_function: Optional[Callable[[MDDArcData, MDDNodeState, MDDNodeState, int], MDDArcData]] = None, # function specifying the arc data\n",
    "    node_selection_function: Optional[Callable[[Collection[MDDNode], int], list[MDDNode]]] = None, # function specifying nodes to select for merge / removal\n",
    "    name: str = DEFAULT_MDD_NAME, # name of MDD\n",
    ") -> MDD: # Compiled decision diagram\n",
    "    # Basic parameter checks  and default settings\n",
    "    if max_width is None:\n",
    "        max_width = lambda j: float(\"inf\")\n",
    "    else:\n",
    "        if merge_function is None != arcdata_function is None:\n",
    "            raise RuntimeError(\"merge_function and arcdata_function must be defined together\")\n",
    "        if node_selection_function is None:\n",
    "            node_selection_function = lambda slist,j: sample(slist, 1 + int(merge_function is not None))\n",
    "\n",
    "    # Create first layer, containing only the root\n",
    "    mdd = MDD()\n",
    "    mdd.append_new_layers(num_layers+1)\n",
    "    mdd.add_node(MDDNode(0, root_state))\n",
    "\n",
    "    # Create rest of the layers in a top-down fashion\n",
    "    for j in range(num_layers):\n",
    "        # Merge / Remove until current layer is under max_width\n",
    "        curr_layer = [u for u in mdd.allnodes_in_layer(j)]\n",
    "        curr_width = len(curr_layer)\n",
    "        max_allowed_width = max_width(j)\n",
    "        while curr_width > max_allowed_width:\n",
    "            mnodes = node_selection_function(curr_layer, j)\n",
    "            if merge_function is None:  # Remove\n",
    "                mdd.remove_nodes(mnodes)\n",
    "            else:                       # Merge\n",
    "                mdd.merge_nodes(mnodes, j, merge_function, arcdata_function)\n",
    "            curr_layer = [u for u in mdd.allnodes_in_layer(j)]\n",
    "            if len(curr_layer) >= curr_width:\n",
    "                raise RuntimeError(\"No more nodes to remove/merge but width of layer %d > %d\" % (j, max_allowed_width))\n",
    "            curr_width = len(curr_layer)\n",
    "\n",
    "        # For each node in the current layer and each possible assignment\n",
    "        for u in mdd.allnodes_in_layer(j):\n",
    "            for d in domain_function(j):\n",
    "                # Apply transition function\n",
    "                vstate = transition_function(u.state, d, j)\n",
    "                # Add if node is feasible\n",
    "                if is_feasible(vstate, j+1):\n",
    "                    v = MDDNode(j+1, vstate)\n",
    "                    # Check if equivalent node exists\n",
    "                    if v not in mdd.allnodes_in_layer(j+1):\n",
    "                        mdd.add_node(v)\n",
    "                    # Add appropriate arc\n",
    "                    mdd.add_arc(MDDArc(d, u, v), arc_data_function(u.state, d, j, vstate))\n",
    "    return mdd"
   ]
  },
  {
   "cell_type": "markdown",
   "id": "159e6fef-1987-45e7-99b9-e3c1ffd6ce70",
   "metadata": {},
   "source": [
    "WIP: Some examples"
   ]
  },
  {
   "cell_type": "code",
   "execution_count": null,
   "id": "12197d93-ee7a-4401-b943-009253ce078c",
   "metadata": {},
   "outputs": [
    {
     "name": "stdout",
     "output_type": "stream",
     "text": [
      "\u001b[32m.\u001b[0m\u001b[32m                                                                                            [100%]\u001b[0m\n"
     ]
    }
   ],
   "source": [
    "%%ipytest\n",
    "def test_compile_knapsack() -> None:\n",
    "    num_vars = 4\n",
    "    capacity = 6\n",
    "    profit = [8, 7, 6, 14]\n",
    "    weight = [3, 3, 4, 6]\n",
    "\n",
    "    domain = lambda i: (0, 1)\n",
    "    root_state = capacity\n",
    "    tr_func = lambda s,d,i: s - d * weight[i]\n",
    "    ad_func = lambda s,d,i,ns: MDDArcData(weight=d * profit[i])\n",
    "    is_feas = lambda s,i: s >= 0\n",
    "    merge_func = lambda slist,i: min(slist)\n",
    "    name = \"knapsack\"\n",
    "\n",
    "    mdd = compile_top_down(\n",
    "        num_layers=num_vars,\n",
    "        domain_function=domain,\n",
    "        transition_function=tr_func,\n",
    "        arc_data_function=ad_func,\n",
    "        root_state=root_state,\n",
    "        is_feasible=is_feas,\n",
    "        name=name,\n",
    "    )"
   ]
  },
  {
   "cell_type": "code",
   "execution_count": null,
   "id": "ec3f2f44-d50f-4d71-9863-e3550f0e0d94",
   "metadata": {},
   "outputs": [],
   "source": [
    "#| hide\n",
    "import nbdev; nbdev.nbdev_export()"
   ]
  }
 ],
 "metadata": {
  "kernelspec": {
   "display_name": "python3",
   "language": "python",
   "name": "python3"
  }
 },
 "nbformat": 4,
 "nbformat_minor": 5
}
