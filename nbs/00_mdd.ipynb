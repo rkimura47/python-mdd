{
 "cells": [
  {
   "cell_type": "markdown",
   "metadata": {},
   "source": [
    "# mdd\n",
    "\n",
    "> Objects representing a multivalued decision diagram."
   ]
  },
  {
   "cell_type": "code",
   "execution_count": null,
   "metadata": {},
   "outputs": [],
   "source": [
    "#| default_exp mdd"
   ]
  },
  {
   "cell_type": "code",
   "execution_count": null,
   "metadata": {},
   "outputs": [],
   "source": [
    "#| hide\n",
    "from nbdev.showdoc import *"
   ]
  },
  {
   "cell_type": "code",
   "execution_count": null,
   "metadata": {},
   "outputs": [],
   "source": [
    "#| export\n",
    "from collections.abc import Hashable, ItemsView, Iterator, KeysView\n",
    "from itertools import chain\n",
    "from dataclasses import dataclass, field"
   ]
  },
  {
   "cell_type": "code",
   "execution_count": null,
   "metadata": {},
   "outputs": [],
   "source": [
    "#| hide\n",
    "from fastcore.test import test_eq"
   ]
  },
  {
   "cell_type": "code",
   "execution_count": null,
   "metadata": {},
   "outputs": [],
   "source": [
    "#| export\n",
    "@dataclass(frozen=True)\n",
    "class MDDNode:\n",
    "    \"\"\"MDDNode represents a single node in the MDD.\n",
    "\n",
    "    An MDDNode is uniquely identified by its layer and state. The (node) state\n",
    "    must be a hashable object.\n",
    "\n",
    "    Parameters\n",
    "    ----------\n",
    "    layer : int\n",
    "        layer the node is in\n",
    "    state : Hashable\n",
    "        state associated with node\n",
    "\n",
    "    \"\"\"\n",
    "    layer: int\n",
    "    state: Hashable\n",
    "\n",
    "    def __str__(self) -> str:\n",
    "        return f\"N_{self.layer}({self.state})\""
   ]
  },
  {
   "cell_type": "markdown",
   "metadata": {},
   "source": [
    "`MDDNode` represents a node in the decision diagram. It is uniquely identified by which layer the node is located in, and the node's state. The state should be hashable to ensure we can quickly identify when two nodes in the same layer are \"equivalent\"."
   ]
  },
  {
   "cell_type": "code",
   "execution_count": null,
   "metadata": {},
   "outputs": [
    {
     "name": "stdout",
     "output_type": "stream",
     "text": [
      "n1 = N_0((1, 2, 3))\n",
      "n2 = N_1((1, 3))\n",
      "n1_copy = N_0((1, 2, 3))\n",
      "`n1_copy is n1` -> False\n",
      "`n1_copy == n1` -> True\n"
     ]
    }
   ],
   "source": [
    "n1 = MDDNode(0, (1, 2, 3))\n",
    "n2 = MDDNode(1, (1, 3))\n",
    "n1_copy = MDDNode(0, (1, 2, 3))\n",
    "print(f\"n1 = {n1}\\nn2 = {n2}\\nn1_copy = {n1_copy}\")\n",
    "print(f\"`n1_copy is n1` -> {n1_copy is n1}\")\n",
    "print(f\"`n1_copy == n1` -> {n1_copy == n1}\")"
   ]
  },
  {
   "cell_type": "code",
   "execution_count": null,
   "metadata": {},
   "outputs": [],
   "source": [
    "#| export\n",
    "@dataclass()\n",
    "class MDDArc:\n",
    "    \"\"\"MDDArc represents a single arc in the MDD.\n",
    "\n",
    "    An MDDArc is uniquely identified by its head/tail nodes, label, and weight.\n",
    "\n",
    "    Parameters\n",
    "    ----------\n",
    "    label : Hashable\n",
    "        label of arc (e.g., assigned value)\n",
    "    weight : float\n",
    "        weight of arc (e.g., coefficient)\n",
    "    tail : MDDNode\n",
    "        tail/source node\n",
    "    head : MDDNode\n",
    "        head/destination node\n",
    "\n",
    "    \"\"\"\n",
    "    label: Hashable\n",
    "    weight: float\n",
    "    tail: MDDNode\n",
    "    head: MDDNode\n",
    "\n",
    "    def __str__(self) -> str:\n",
    "        return f\"A({self.label},{self.weight}:{self.tail},{self.head})\""
   ]
  },
  {
   "cell_type": "markdown",
   "metadata": {},
   "source": [
    "`MDDArc` represents an arc in the decision diagram. It is uniquely identified by the combaintion of its tail node, head node, and label.\n",
    "\n",
    "Unlike `MDDNode`, `MDDArc` is NOT immutable; in particular, `MDDArc.weight` may be changed later."
   ]
  },
  {
   "cell_type": "code",
   "execution_count": null,
   "metadata": {},
   "outputs": [
    {
     "name": "stdout",
     "output_type": "stream",
     "text": [
      "Original: A(2,0:N_0((1, 2, 3)),N_1((1, 3)))\n",
      "After modification: A(2,2:N_0((1, 2, 3)),N_1((1, 3)))\n"
     ]
    }
   ],
   "source": [
    "a1_2 = MDDArc(2, 0, n1, n2)\n",
    "print(f\"Original: {a1_2}\")\n",
    "a1_2.weight = 2\n",
    "print(f\"After modification: {a1_2}\")"
   ]
  },
  {
   "cell_type": "code",
   "execution_count": null,
   "metadata": {},
   "outputs": [],
   "source": [
    "#| export\n",
    "@dataclass()\n",
    "class MDDNodeInfo:\n",
    "    \"\"\"MDDNodeInfo represents information associated with an MDDNode.\n",
    "\n",
    "    Parameters\n",
    "    ----------\n",
    "    incoming : list[MDDArc]\n",
    "        list of incoming arcs (default: [])\n",
    "    outgoing : list[MDDArc]\n",
    "        list of outgoing arcs (default: [])\n",
    "\n",
    "    \"\"\"\n",
    "    incoming: list[MDDArc] = field(default_factory=list)\n",
    "    outgoing: list[MDDArc] = field(default_factory=list)\n",
    "\n",
    "    def __str__(self) -> str:\n",
    "        incoming_str = \", \".join(str(a) for a in self.incoming)\n",
    "        outgoing_str = \", \".join(str(a) for a in self.outgoing)\n",
    "        return f\"<in=[{incoming_str}], out=[{outgoing_str}]>\""
   ]
  },
  {
   "cell_type": "markdown",
   "metadata": {},
   "source": [
    "`MDDNodeInfo` represents information assicated with a node in the decision diagram, and in particular its incoming and outgoing arcs."
   ]
  },
  {
   "cell_type": "code",
   "execution_count": null,
   "metadata": {},
   "outputs": [
    {
     "name": "stdout",
     "output_type": "stream",
     "text": [
      "info = <in=[], out=[A(2,2:N_0((1, 2, 3)),N_1((1, 3)))]>\n"
     ]
    }
   ],
   "source": [
    "node_info = MDDNodeInfo(incoming=[], outgoing=[a1_2])\n",
    "print(f\"info = {node_info}\")"
   ]
  },
  {
   "cell_type": "code",
   "execution_count": null,
   "metadata": {},
   "outputs": [],
   "source": [
    "#| export\n",
    "@dataclass()\n",
    "class MDD:\n",
    "    \"\"\"MDD represents a multivalued decision diagram, or MDD.\n",
    "\n",
    "    Parameters\n",
    "    ----------\n",
    "    name : str\n",
    "        name of MDD (default: 'mdd')\n",
    "    nodes : list[dict[MDDNode, MDDNodeInfo]]\n",
    "        nodes of MDD (default: [])\n",
    "\n",
    "    \"\"\"\n",
    "    name: str = \"mdd\"\n",
    "    nodes: list[dict[MDDNode, MDDNodeInfo]] = field(default_factory=list)\n",
    "\n",
    "    @property\n",
    "    def numNodeLayers(self) -> int:\n",
    "        \"\"\"Number of node layers; equal to number of 'variables' + 1.\"\"\"\n",
    "        return len(self.nodes)\n",
    "\n",
    "    @property\n",
    "    def numArcLayers(self) -> int:\n",
    "        \"\"\"Number of arc layers; equal to number of 'variables'.\"\"\"\n",
    "        return len(self.nodes) - 1\n",
    "\n",
    "    @property\n",
    "    def widthList(self) -> list[int]:\n",
    "        \"\"\"Number of nodes in each layer.\"\"\"\n",
    "        return [len(layer) for layer in self.nodes]\n",
    "\n",
    "    @property\n",
    "    def maxWidth(self) -> int:\n",
    "        \"\"\"Maximum number of nodes in a single node layer.\"\"\"\n",
    "        return max(len(layer) for layer in self.nodes)\n",
    "\n",
    "    def allnodes(self) -> Iterator[MDDNode]:\n",
    "        \"\"\"Iterate over all MDDNodes in the MDD.\"\"\"\n",
    "        return chain.from_iterable(l.keys() for l in self.nodes)\n",
    "\n",
    "    def allnodeitems_in_layer(\n",
    "        self,\n",
    "        layer: int, # index of layer\n",
    "    ) -> ItemsView[MDDNode, MDDNodeInfo]:\n",
    "        \"\"\"Return a view of all (MDDNode, MDDNodeInfo) pairs in a layer.\"\"\"\n",
    "        return self.nodes[layer].items()\n",
    "\n",
    "    def allnodes_in_layer(\n",
    "        self,\n",
    "        layer: int, # index of layer\n",
    "    ) -> KeysView[MDDNode]:\n",
    "        \"\"\"Return a view of all MDDNodes in a layer.\"\"\"\n",
    "        return self.nodes[layer]\n",
    "\n",
    "    def alloutgoingarcs(self) -> Iterator[MDDArc]:\n",
    "        \"\"\"Iterate over all outgoing arcs in the MDD.\"\"\"\n",
    "        return chain.from_iterable(ui.outgoing for j in range(self.numArcLayers) for ui in self.nodes[j].values())\n",
    "\n",
    "    def allincomingarcs(self) -> Iterator[MDDArc]:\n",
    "        \"\"\"Iterate over all incoming arcs in the MDD.\"\"\"\n",
    "        return chain.from_iterable(ui.incoming for j in range(self.numArcLayers) for ui in self.nodes[j+1].values())\n",
    "\n",
    "    def __str__(\n",
    "        self,\n",
    "        showLong: bool = False, # use more vertical space (default: False)\n",
    "        showIncoming: bool = False, # show incoming arcs (default: False)\n",
    "    ) -> str:\n",
    "        \"\"\"Return a (human-readable) string representation of the MDD.\"\"\"\n",
    "        s = '== MDD (' + self.name + ', ' + str(self.numArcLayers) + ' layers) ==\\n'\n",
    "        if showLong:\n",
    "            # Long form\n",
    "            s += '# Nodes\\n'\n",
    "            for (j, lyr) in enumerate(self.nodes):\n",
    "                s += 'L' + str(j) + ':\\n'\n",
    "                for v in lyr:\n",
    "                    s += '\\t' + str(v) + ': <'\n",
    "                    s += 'in={' + ', '.join(str(a) for a in self.nodes[j][v].incoming) + '}, '\n",
    "                    s += 'out={' + ', '.join(str(a) for a in self.nodes[j][v].outgoing) + '}'\n",
    "                    s += '>\\n'\n",
    "            s += '# (Outgoing) Arcs\\n'\n",
    "            s += '\\n'.join(str(a) for a in self.alloutgoingarcs())\n",
    "            if showIncoming:\n",
    "                s += '\\n# (Incoming) Arcs\\n'\n",
    "                s += '\\n'.join(str(a) for a in self.allincomingarcs())\n",
    "        else:\n",
    "            # Short form\n",
    "            s += '# Nodes\\n'\n",
    "            for (j, lyr) in enumerate(self.nodes):\n",
    "                s += 'L' + str(j) + ': '\n",
    "                s += ', '.join(str(v) for v in self.allnodes_in_layer(j)) + '\\n'\n",
    "            s += '# (Outgoing) Arcs\\n'\n",
    "            s += ', '.join(str(a) for a in self.alloutgoingarcs())\n",
    "            if showIncoming:\n",
    "                s += '\\n# (Incoming) Arcs\\n'\n",
    "                s += ', '.join(str(a) for a in self.allincomingarcs())\n",
    "        return s\n",
    "\n",
    "    def clear(self) -> None:\n",
    "        \"\"\"Reset the MDD.\"\"\"\n",
    "        self.nodes = []\n",
    "\n",
    "    def append_new_layer(self) -> None:\n",
    "        \"\"\"Append a new layer to the MDD.\"\"\"\n",
    "        self.nodes.append(dict())\n",
    "\n",
    "    def get_node_info(\n",
    "        self,\n",
    "        node: MDDNode, # node in MDD\n",
    "    ) -> MDDNodeInfo:\n",
    "        \"\"\"Get `MDDNodeInfo` corresponding to `node`.\n",
    "\n",
    "        Note this funcation can NOT be used to populate the underlying\n",
    "        dictionary; it can only be used to reference the object.\n",
    "\n",
    "        In general, you should use allnodeitems_in_layer(...) if you\n",
    "        want to update node info in a systematic manner. The author\n",
    "        recommends only using this function if allnodeitems_in_layer(...)\n",
    "        cannot be used.\n",
    "        \"\"\"\n",
    "        return self.nodes[node.layer][node]\n",
    "\n",
    "    def add_arc(\n",
    "        self,\n",
    "        newarc: MDDArc, # arc to be added\n",
    "    ) -> None:\n",
    "        \"\"\"Add an arc to the MDD, without any sanity checks.\n",
    "\n",
    "        The head and tail nodes of the arc should already exist in the MDD.\n",
    "\n",
    "        \"\"\"\n",
    "        self.get_node_info(newarc.tail).outgoing.append(newarc)\n",
    "        self.get_node_info(newarc.head).incoming.append(newarc)\n",
    "\n",
    "    def remove_arc(\n",
    "        self,\n",
    "        rmvarc: MDDArc, # arc to be removed\n",
    "    ) -> None:\n",
    "        \"\"\"Remove an arc from the MDD, without any sanity checks.\"\"\"\n",
    "\n",
    "        self.get_node_info(rmvarc.tail).outgoing.remove(rmvarc)\n",
    "        self.get_node_info(rmvarc.head).incoming.remove(rmvarc)\n",
    "\n",
    "    def add_node(\n",
    "        self,\n",
    "        newnode: MDDNode, # node to be added\n",
    "    ) -> None:\n",
    "        \"\"\"Add a node to the MDD, without any sanity checks.\n",
    "\n",
    "        The node's layer should already exist in the MDD.\n",
    "\n",
    "        NOTE: If an identical node already exists, its incoming and outgoing\n",
    "        arcs will be ERASED!!!\n",
    "\n",
    "        \"\"\"\n",
    "        self.nodes[newnode.layer][newnode] = MDDNodeInfo()\n",
    "\n",
    "    def remove_node(\n",
    "        self,\n",
    "        rmvnode: MDDNode, # node to be removed\n",
    "    ) -> None:\n",
    "        \"\"\"Remove a node from the MDD, without any sanity checks.\"\"\"\n",
    "        for arc in self.get_node_info(rmvnode).incoming:\n",
    "            self.get_node_info(arc.tail).outgoing.remove(arc)\n",
    "        for arc in self.get_node_info(rmvnode).outgoing:\n",
    "            self.get_node_info(arc.head).incoming.remove(arc)\n",
    "        del self.nodes[rmvnode.layer][rmvnode]"
   ]
  },
  {
   "cell_type": "markdown",
   "metadata": {},
   "source": [
    "The `MDD` object is the core object. It comes with a few basic operations."
   ]
  },
  {
   "cell_type": "code",
   "execution_count": null,
   "metadata": {},
   "outputs": [],
   "source": [
    "#| hide\n",
    "def test_basic_mdd_operations() -> None:\n",
    "    mymdd = MDD()\n",
    "    test_eq(mymdd.numNodeLayers, 0)\n",
    "    test_eq(mymdd.numArcLayers, -1)\n",
    "    test_eq(list(mymdd.allnodes()), [])\n",
    "    \n",
    "    mymdd.append_new_layer()\n",
    "    mynode0 = MDDNode(0, 0)\n",
    "    mymdd.add_node(mynode0)\n",
    "    mymdd.append_new_layer()\n",
    "    test_eq(mymdd.widthList, [1,0])\n",
    "    \n",
    "    mynode1 = MDDNode(1, 1)\n",
    "    mymdd.add_node(mynode1)\n",
    "    mynode2 = MDDNode(1, 2)\n",
    "    mymdd.add_node(mynode2)\n",
    "    test_eq(mymdd.numNodeLayers, 2)\n",
    "    test_eq(mymdd.widthList, [1,2])\n",
    "    test_eq(mymdd.maxWidth, 2)\n",
    "    \n",
    "    myarc0_1 = MDDArc(0, 0, mynode0, mynode1)\n",
    "    myarc0_2 = MDDArc(1, 10, mynode0, mynode2)\n",
    "    mymdd.add_arc(myarc0_1)\n",
    "    mymdd.add_arc(myarc0_2)\n",
    "    test_eq(list(mymdd.alloutgoingarcs()), [myarc0_1, myarc0_2])\n",
    "    test_eq(list(mymdd.allincomingarcs()), [myarc0_1, myarc0_2])\n",
    "    \n",
    "    mymdd.remove_node(mynode2)\n",
    "    assert mynode2 not in list(mymdd.allnodes())\n",
    "    test_eq(list(mymdd.alloutgoingarcs()), [myarc0_1])\n",
    "    test_eq(list(mymdd.allincomingarcs()), [myarc0_1])\n",
    "\n",
    "test_basic_mdd_operations()"
   ]
  },
  {
   "cell_type": "code",
   "execution_count": null,
   "metadata": {},
   "outputs": [],
   "source": [
    "#| hide\n",
    "import nbdev; nbdev.nbdev_export()"
   ]
  }
 ],
 "metadata": {
  "kernelspec": {
   "display_name": "python3",
   "language": "python",
   "name": "python3"
  }
 },
 "nbformat": 4,
 "nbformat_minor": 4
}
