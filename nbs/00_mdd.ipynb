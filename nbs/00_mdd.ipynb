{
 "cells": [
  {
   "cell_type": "markdown",
   "metadata": {},
   "source": [
    "# mdd\n",
    "\n",
    "> Objects representing a multivalued decision diagram."
   ]
  },
  {
   "cell_type": "code",
   "execution_count": null,
   "metadata": {},
   "outputs": [],
   "source": [
    "#| default_exp mdd"
   ]
  },
  {
   "cell_type": "code",
   "execution_count": null,
   "metadata": {},
   "outputs": [],
   "source": [
    "#| hide\n",
    "from nbdev.showdoc import *"
   ]
  },
  {
   "cell_type": "code",
   "execution_count": null,
   "metadata": {},
   "outputs": [],
   "source": [
    "#| export\n",
    "from collections.abc import Hashable\n",
    "import dataclasses"
   ]
  },
  {
   "cell_type": "code",
   "execution_count": null,
   "metadata": {},
   "outputs": [],
   "source": [
    "#| export\n",
    "@dataclasses.dataclass(frozen=True)\n",
    "class MDDNode:\n",
    "    \"\"\"MDDNode represents a single node in the MDD.\n",
    "\n",
    "    An MDDNode is uniquely identified by its layer and state.  The (node) state must be a hashable object.\n",
    "\n",
    "    Parameters\n",
    "    ----------\n",
    "    layer : int\n",
    "        layer the node is in\n",
    "    state : Hashable\n",
    "        state associated with node\n",
    "\n",
    "    \"\"\"\n",
    "    layer: int\n",
    "    state: Hashable\n",
    "\n",
    "    def __str__(self) -> str:\n",
    "        return f\"N_{self.layer}({self.state})\""
   ]
  },
  {
   "cell_type": "markdown",
   "metadata": {},
   "source": [
    "`MDDNode` represents a node in the decision diagram. It is uniquely identified by which layer the node is located in, and the node's state. The state should be hashable to ensure we can quickly identify when two nodes in the same layer are \"equivalent\"."
   ]
  },
  {
   "cell_type": "code",
   "execution_count": null,
   "metadata": {},
   "outputs": [
    {
     "name": "stdout",
     "output_type": "stream",
     "text": [
      "n1 = N_0((1, 2, 3))\n",
      "n2 = N_1((1, 3))\n"
     ]
    }
   ],
   "source": [
    "n1 = MDDNode(0, (1, 2, 3))\n",
    "n2 = MDDNode(1, (1, 3))\n",
    "print(f\"n1 = {n1}\\nn2 = {n2}\")"
   ]
  },
  {
   "cell_type": "code",
   "execution_count": null,
   "metadata": {},
   "outputs": [],
   "source": [
    "#| export\n",
    "@dataclasses.dataclass()\n",
    "class MDDArc:\n",
    "    \"\"\"MDDArc represents a single arc in the MDD.\n",
    "\n",
    "    An MDDArc is uniquely identified by its head/tail nodes, label, and weight.\n",
    "\n",
    "    Parameters\n",
    "    ----------\n",
    "    label : Hashable\n",
    "        label of arc (e.g., assigned value)\n",
    "    weight : float\n",
    "        weight of arc (e.g., coefficient)\n",
    "    tail : MDDNode\n",
    "        tail/source node\n",
    "    head : MDDNode\n",
    "        head/destination node\n",
    "\n",
    "    \"\"\"\n",
    "    label: Hashable\n",
    "    weight: float\n",
    "    tail: MDDNode\n",
    "    head: MDDNode\n",
    "\n",
    "    def __str__(self) -> str:\n",
    "        return f\"A({self.label},{self.weight}:{self.tail},{self.head})\""
   ]
  },
  {
   "cell_type": "markdown",
   "metadata": {},
   "source": [
    "`MDDArc` represents an arc in the decision diagram. It is uniquely identified by the combaintion of its tail node, head node, and label.\n",
    "\n",
    "Unlike `MDDNode`, `MDDArc` is NOT immutable; in particular, `MDDArc.weight` may be changed later."
   ]
  },
  {
   "cell_type": "code",
   "execution_count": null,
   "metadata": {},
   "outputs": [
    {
     "name": "stdout",
     "output_type": "stream",
     "text": [
      "Original: A(2,0:N_0((1, 2, 3)),N_1((1, 3)))\n",
      "After modification: A(2,2:N_0((1, 2, 3)),N_1((1, 3)))\n"
     ]
    }
   ],
   "source": [
    "a = MDDArc(2, 0, n1, n2)\n",
    "print(f\"Original: {a}\")\n",
    "a.weight = 2\n",
    "print(f\"After modification: {a}\")"
   ]
  },
  {
   "cell_type": "code",
   "execution_count": null,
   "metadata": {},
   "outputs": [],
   "source": [
    "#| export\n",
    "@dataclasses.dataclass()\n",
    "class MDDNodeInfo:\n",
    "    \"\"\"MDDNodeInfo represents information associated with an MDDNode.\n",
    "\n",
    "    Parameters\n",
    "    ----------\n",
    "    incoming : list[MDDArc]\n",
    "        list of incoming arcs (default: [])\n",
    "    outgoing : list[MDDArc]\n",
    "        list of outgoing arcs (default: [])\n",
    "\n",
    "    \"\"\"\n",
    "    incoming: list[MDDArc] = dataclasses.field(default_factory=list)\n",
    "    outgoing: list[MDDArc] = dataclasses.field(default_factory=list)\n",
    "\n",
    "    def __str__(self) -> str:\n",
    "        incoming_str = \", \".join(str(a) for a in self.incoming)\n",
    "        outgoing_str = \", \".join(str(a) for a in self.outgoing)\n",
    "        return f\"<in=[{incoming_str}], out=[{outgoing_str}]>\""
   ]
  },
  {
   "cell_type": "markdown",
   "metadata": {},
   "source": [
    "`MDDNodeInfo` represents information assicated with a node in the decision diagram, and in particular its incoming and outgoing arcs."
   ]
  },
  {
   "cell_type": "code",
   "execution_count": null,
   "metadata": {},
   "outputs": [
    {
     "name": "stdout",
     "output_type": "stream",
     "text": [
      "info = <in=[], out=[A(2,2:N_0((1, 2, 3)),N_1((1, 3)))]>\n"
     ]
    }
   ],
   "source": [
    "info = MDDNodeInfo(incoming=[], outgoing=[a])\n",
    "print(f\"info = {info}\")"
   ]
  },
  {
   "cell_type": "code",
   "execution_count": null,
   "metadata": {},
   "outputs": [],
   "source": [
    "#| hide\n",
    "import nbdev; nbdev.nbdev_export()"
   ]
  }
 ],
 "metadata": {
  "kernelspec": {
   "display_name": "python3",
   "language": "python",
   "name": "python3"
  }
 },
 "nbformat": 4,
 "nbformat_minor": 4
}
