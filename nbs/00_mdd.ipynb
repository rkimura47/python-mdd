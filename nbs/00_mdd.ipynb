{
 "cells": [
  {
   "cell_type": "markdown",
   "metadata": {},
   "source": [
    "# mdd\n",
    "\n",
    "> Objects representing a multivalued decision diagram."
   ]
  },
  {
   "cell_type": "code",
   "execution_count": null,
   "metadata": {},
   "outputs": [],
   "source": [
    "#| default_exp mdd"
   ]
  },
  {
   "cell_type": "code",
   "execution_count": null,
   "metadata": {},
   "outputs": [],
   "source": [
    "#| hide\n",
    "from nbdev.showdoc import *"
   ]
  },
  {
   "cell_type": "code",
   "execution_count": null,
   "metadata": {},
   "outputs": [],
   "source": [
    "#| export\n",
    "from collections.abc import Callable, Collection, Hashable, ItemsView, Iterable, Iterator, KeysView, Mapping\n",
    "from itertools import chain\n",
    "from dataclasses import dataclass, field\n",
    "from typing import Optional"
   ]
  },
  {
   "cell_type": "code",
   "execution_count": null,
   "metadata": {},
   "outputs": [],
   "source": [
    "#| hide\n",
    "import ipytest\n",
    "import pytest"
   ]
  },
  {
   "cell_type": "code",
   "execution_count": null,
   "metadata": {},
   "outputs": [],
   "source": [
    "#| hide\n",
    "ipytest.autoconfig(addopts=(\"-qq\", \"--color=yes\"))"
   ]
  },
  {
   "cell_type": "markdown",
   "metadata": {},
   "source": [
    "## Classes"
   ]
  },
  {
   "cell_type": "code",
   "execution_count": null,
   "metadata": {},
   "outputs": [],
   "source": [
    "#| export\n",
    "MDDNodeState = Hashable\n",
    "\n",
    "@dataclass(frozen=True)\n",
    "class MDDNode:\n",
    "    \"\"\"MDDNode represents a single node in the MDD.\n",
    "\n",
    "    An MDDNode is uniquely identified by its layer and state. The (node) state\n",
    "    must be a `collections.abc.Hashable` object.\n",
    "\n",
    "    Parameters\n",
    "    ----------\n",
    "    layer : int\n",
    "        layer the node is in\n",
    "    state : MDDNodeState\n",
    "        state associated with node\n",
    "\n",
    "    \"\"\"\n",
    "    layer: int\n",
    "    state: MDDNodeState\n",
    "\n",
    "    def __str__(self) -> str:\n",
    "        return f\"N_{self.layer}({self.state})\""
   ]
  },
  {
   "cell_type": "markdown",
   "metadata": {},
   "source": [
    "`MDDNode` represents a node in the decision diagram. It is uniquely identified by which layer the node is located in, and the node's state. The state should be hashable to ensure we can quickly identify when two nodes in the same layer are \"equivalent\"."
   ]
  },
  {
   "cell_type": "code",
   "execution_count": null,
   "metadata": {},
   "outputs": [
    {
     "name": "stdout",
     "output_type": "stream",
     "text": [
      "n1 = N_0((1, 2, 3))\n",
      "n2 = N_1((1, 3))\n",
      "n1_copy = N_0((1, 2, 3))\n",
      "`n1_copy is n1` -> False\n",
      "`n1_copy == n1` -> True\n"
     ]
    }
   ],
   "source": [
    "n1 = MDDNode(0, (1, 2, 3))\n",
    "n2 = MDDNode(1, (1, 3))\n",
    "n1_copy = MDDNode(0, (1, 2, 3))\n",
    "print(f\"n1 = {n1}\\nn2 = {n2}\\nn1_copy = {n1_copy}\")\n",
    "print(f\"`n1_copy is n1` -> {n1_copy is n1}\")\n",
    "print(f\"`n1_copy == n1` -> {n1_copy == n1}\")"
   ]
  },
  {
   "cell_type": "code",
   "execution_count": null,
   "metadata": {},
   "outputs": [],
   "source": [
    "#| export\n",
    "MDDArcLabel = Hashable\n",
    "\n",
    "@dataclass(frozen=True)\n",
    "class MDDArc:\n",
    "    \"\"\"MDDArc represents a single arc in the MDD.\n",
    "\n",
    "    An MDDArc is uniquely identified by its head/tail nodes, label, and weight.\n",
    "    The (arc) label must be a `collections.abc.Hashable` object.\n",
    "\n",
    "    Parameters\n",
    "    ----------\n",
    "    label : MDDArcLabel\n",
    "        label of arc (e.g., assigned value)\n",
    "    tail : MDDNode\n",
    "        tail/source node\n",
    "    head : MDDNode\n",
    "        head/destination node\n",
    "\n",
    "    \"\"\"\n",
    "    label: MDDArcLabel\n",
    "    tail: MDDNode\n",
    "    head: MDDNode\n",
    "\n",
    "    def __str__(self) -> str:\n",
    "        return f\"A({self.label}:{self.tail},{self.head})\""
   ]
  },
  {
   "cell_type": "markdown",
   "metadata": {},
   "source": [
    "`MDDArc` represents an arc in the decision diagram. It is uniquely identified by the combination of its tail node, head node, and label."
   ]
  },
  {
   "cell_type": "code",
   "execution_count": null,
   "metadata": {},
   "outputs": [
    {
     "name": "stdout",
     "output_type": "stream",
     "text": [
      "a1_2 = A(2:N_0((1, 2, 3)),N_1((1, 3)))\n"
     ]
    }
   ],
   "source": [
    "a1_2 = MDDArc(2, n1, n2)\n",
    "print(f\"a1_2 = {a1_2}\")"
   ]
  },
  {
   "cell_type": "code",
   "execution_count": null,
   "metadata": {},
   "outputs": [],
   "source": [
    "#| export\n",
    "@dataclass()\n",
    "class MDDNodeData:\n",
    "    \"\"\"MDDNodeData represents information associated with an MDDNode.\n",
    "\n",
    "    Parameters\n",
    "    ----------\n",
    "    incoming : list[MDDArc]\n",
    "        list of incoming arcs (default: [])\n",
    "    outgoing : list[MDDArc]\n",
    "        list of outgoing arcs (default: [])\n",
    "\n",
    "    \"\"\"\n",
    "    incoming: list[MDDArc] = field(default_factory=list)\n",
    "    outgoing: list[MDDArc] = field(default_factory=list)\n",
    "\n",
    "    def __str__(self) -> str:\n",
    "        incoming_str = \", \".join(str(a) for a in self.incoming)\n",
    "        outgoing_str = \", \".join(str(a) for a in self.outgoing)\n",
    "        return f\"<in=[{incoming_str}], out=[{outgoing_str}]>\""
   ]
  },
  {
   "cell_type": "markdown",
   "metadata": {},
   "source": [
    "`MDDNodeData` represents information associated with a node in the decision diagram, in particular its incoming and outgoing arcs."
   ]
  },
  {
   "cell_type": "code",
   "execution_count": null,
   "metadata": {},
   "outputs": [
    {
     "name": "stdout",
     "output_type": "stream",
     "text": [
      "node_data = <in=[], out=[A(2:N_0((1, 2, 3)),N_1((1, 3)))]>\n"
     ]
    }
   ],
   "source": [
    "node_data = MDDNodeData(incoming=[], outgoing=[a1_2])\n",
    "print(f\"node_data = {node_data}\")"
   ]
  },
  {
   "cell_type": "code",
   "execution_count": null,
   "metadata": {},
   "outputs": [],
   "source": [
    "#| export\n",
    "@dataclass()\n",
    "class MDDArcData:\n",
    "    \"\"\"MDDArcData represents information associated with an MDDArc.\n",
    "\n",
    "    Parameters\n",
    "    ----------\n",
    "    weight : float\n",
    "        weight of arc (default: 0.0)\n",
    "\n",
    "    \"\"\"\n",
    "    weight: float = 0.0\n",
    "\n",
    "    def __str__(self) -> str:\n",
    "        return f\"<{self.weight}>\""
   ]
  },
  {
   "cell_type": "code",
   "execution_count": null,
   "metadata": {},
   "outputs": [],
   "source": [
    "#| export\n",
    "@dataclass()\n",
    "class MDD:\n",
    "    \"\"\"MDD represents a multivalued decision diagram, or MDD.\n",
    "\n",
    "    Parameters\n",
    "    ----------\n",
    "    name : str\n",
    "        name of MDD (default: 'mdd')\n",
    "    nodes : list[dict[MDDNode, MDDNodeData]]\n",
    "        nodes of MDD (default: [])\n",
    "    arcs: dict[MDDArc, MDDArcData]\n",
    "        arcs of MDD (default: dict())\n",
    "\n",
    "    \"\"\"\n",
    "    name: str = \"mdd\"\n",
    "    nodes: list[dict[MDDNode, MDDNodeData]] = field(default_factory=list)\n",
    "    arcs: dict[MDDArc, MDDArcData] = field(default_factory=dict)\n",
    "\n",
    "    @property\n",
    "    def num_node_layers(self) -> int:\n",
    "        \"\"\"Number of node layers; equal to number of 'variables' + 1.\"\"\"\n",
    "        return len(self.nodes)\n",
    "\n",
    "    @property\n",
    "    def num_arc_layers(self) -> int:\n",
    "        \"\"\"Number of arc layers; equal to number of 'variables'.\"\"\"\n",
    "        return len(self.nodes) - 1\n",
    "\n",
    "    @property\n",
    "    def width_list(self) -> list[int]:\n",
    "        \"\"\"Number of nodes in each layer.\"\"\"\n",
    "        return [len(layer) for layer in self.nodes]\n",
    "\n",
    "    @property\n",
    "    def max_width(self) -> int:\n",
    "        \"\"\"Maximum number of nodes in a single node layer.\"\"\"\n",
    "        return max(len(layer) for layer in self.nodes)\n",
    "\n",
    "    def all_nodes(self) -> Iterator[MDDNode]:\n",
    "        \"\"\"Iterate over all MDDNodes in the MDD.\"\"\"\n",
    "        return chain.from_iterable(l.keys() for l in self.nodes)\n",
    "\n",
    "    def all_nodeitems_in_layer(\n",
    "        self,\n",
    "        layer: int, # index of layer\n",
    "    ) -> ItemsView[MDDNode, MDDNodeData]:\n",
    "        \"\"\"Return a view of all (MDDNode, MDDNodeData) pairs in a layer.\"\"\"\n",
    "        return self.nodes[layer].items()\n",
    "\n",
    "    def allnodes_in_layer(\n",
    "        self,\n",
    "        layer: int, # index of layer\n",
    "    ) -> KeysView[MDDNode]:\n",
    "        \"\"\"Return a view of all MDDNodes in a layer.\"\"\"\n",
    "        return self.nodes[layer]\n",
    "\n",
    "    def all_outgoing_arcs(self) -> Iterator[MDDArc]:\n",
    "        \"\"\"Iterate over all outgoing arcs in the MDD.\"\"\"\n",
    "        return chain.from_iterable(ui.outgoing for j in range(self.num_arc_layers) for ui in self.nodes[j].values())\n",
    "\n",
    "    def all_incoming_arcs(self) -> Iterator[MDDArc]:\n",
    "        \"\"\"Iterate over all incoming arcs in the MDD.\"\"\"\n",
    "        return chain.from_iterable(ui.incoming for j in range(self.num_arc_layers) for ui in self.nodes[j+1].values())\n",
    "\n",
    "    def __str__(\n",
    "        self,\n",
    "        show_long: bool = False, # use more vertical space (default: False)\n",
    "        show_incoming: bool = False, # show incoming arcs (default: False)\n",
    "    ) -> str:\n",
    "        \"\"\"Return a (human-readable) string representation of the MDD.\"\"\"\n",
    "        s = f\"== MDD ({self.name}, {self.num_arc_layers} layers) ==\\n\"\n",
    "        if show_long:\n",
    "            # Long form\n",
    "            s += \"# Nodes\\n\"\n",
    "            for (j, lyr) in enumerate(self.nodes):\n",
    "                s += f\"L{j}:\\n\"\n",
    "                for v in lyr:\n",
    "                    s += f\"\\t{v}: <\"\n",
    "                    s += \"in={\" + \", \".join(str(a) for a in self.nodes[j][v].incoming) + \"}, \"\n",
    "                    s += \"out={\" + \", \".join(str(a) for a in self.nodes[j][v].outgoing) + \"}\"\n",
    "                    s += \">\\n\"\n",
    "            s += \"# (Outgoing) Arcs\\n\"\n",
    "            s += \"\\n\".join(f\"{a}:{self.arcs[a]}\" for a in self.all_outgoing_arcs())\n",
    "            if show_incoming:\n",
    "                s += \"\\n# (Incoming) Arcs\\n\"\n",
    "                s += \"\\n\".join(f\"{a}:{self.arcs[a]}\" for a in self.all_incoming_arcs())\n",
    "        else:\n",
    "            # Short form\n",
    "            s += \"# Nodes\\n\"\n",
    "            for (j, lyr) in enumerate(self.nodes):\n",
    "                s += f\"L{j}: \"\n",
    "                s += \", \".join(str(v) for v in self.allnodes_in_layer(j)) + \"\\n\"\n",
    "            s += \"# (Outgoing) Arcs\\n\"\n",
    "            s += \", \".join(f\"{a}:{self.arcs[a]}\" for a in self.all_outgoing_arcs())\n",
    "            if show_incoming:\n",
    "                s += \"\\n# (Incoming) Arcs\\n\"\n",
    "                s += \", \".join(f\"{a}:{self.arcs[a]}\" for a in self.all_incoming_arcs())\n",
    "        return s\n",
    "\n",
    "    def clear(self) -> None:\n",
    "        \"\"\"Reset the MDD.\"\"\"\n",
    "        self.nodes = []\n",
    "\n",
    "    def append_new_layers(\n",
    "        self,\n",
    "        n: int = 1 # number of layers to append\n",
    "    ) -> None:\n",
    "        \"\"\"Append new layers to the MDD.\"\"\"\n",
    "        self.nodes.extend([dict() for _ in range(n)])\n",
    "\n",
    "    def get_node_data(\n",
    "        self,\n",
    "        node: MDDNode, # node in MDD\n",
    "    ) -> MDDNodeData:\n",
    "        \"\"\"Get `MDDNodeData` corresponding to `node`.\n",
    "\n",
    "        Note this function can NOT be used to populate the underlying\n",
    "        dictionary; it can only be used to reference the object.\n",
    "\n",
    "        In general, you should use all_nodeitems_in_layer(...) if you\n",
    "        want to update node data in a systematic manner. The author\n",
    "        recommends only using this function if all_nodeitems_in_layer(...)\n",
    "        cannot be used.\n",
    "        \"\"\"\n",
    "        return self.nodes[node.layer][node]\n",
    "\n",
    "    def add_arc(\n",
    "        self,\n",
    "        newarc: MDDArc, # arc to be added\n",
    "        newarc_data: MDDArcData, # data for arc to be added\n",
    "    ) -> None:\n",
    "        \"\"\"Add an arc to the MDD, without any sanity checks.\n",
    "\n",
    "        The head and tail nodes of the arc should already exist in the MDD.\n",
    "        \"\"\"\n",
    "        self.get_node_data(newarc.tail).outgoing.append(newarc)\n",
    "        self.get_node_data(newarc.head).incoming.append(newarc)\n",
    "        self.arcs[newarc] = newarc_data\n",
    "\n",
    "    def add_arcs(\n",
    "        self,\n",
    "        newarcs: Mapping[MDDArc, MDDArcData], # arcs and their data to be added\n",
    "    ) -> None:\n",
    "        \"\"\"Add arcs to the MDD, without any sanity checks.\"\"\"\n",
    "        for arc, arc_data in newarcs.items():\n",
    "            self.add_arc(arc, arc_data)\n",
    "\n",
    "    def remove_arc(\n",
    "        self,\n",
    "        rmvarc: MDDArc, # arc to be removed\n",
    "    ) -> None:\n",
    "        \"\"\"Remove an arc from the MDD, without any sanity checks.\"\"\"\n",
    "        self.get_node_data(rmvarc.tail).outgoing.remove(rmvarc)\n",
    "        self.get_node_data(rmvarc.head).incoming.remove(rmvarc)\n",
    "        del self.arcs[rmvarc]\n",
    "\n",
    "    def remove_arcs(\n",
    "        self,\n",
    "        rmvarcs: Iterable[MDDArc], # arcs to be removed\n",
    "    ) -> None:\n",
    "        \"\"\"Remove arcs from the MDD, without any sanity checks.\"\"\"\n",
    "        for arc in rmvarcs:\n",
    "            self.remove_arc(arc)\n",
    "\n",
    "    def add_node(\n",
    "        self,\n",
    "        newnode: MDDNode, # node to be added\n",
    "    ) -> None:\n",
    "        \"\"\"Add a node to the MDD, without any sanity checks.\n",
    "\n",
    "        The node's layer should already exist in the MDD.\n",
    "\n",
    "        NOTE: If an identical node already exists, its incoming and outgoing\n",
    "        arcs will be ERASED!!!\n",
    "        \"\"\"\n",
    "        self.nodes[newnode.layer][newnode] = MDDNodeData()\n",
    "\n",
    "    def add_nodes(\n",
    "        self,\n",
    "        newnodes: Iterable[MDDNode], # nodes to be added\n",
    "    ) -> None:\n",
    "        \"\"\"Add nodes to the MDD, without any sanity checks.\"\"\"\n",
    "        for node in newnodes:\n",
    "            self.add_node(node)\n",
    "\n",
    "    def remove_node(\n",
    "        self,\n",
    "        rmvnode: MDDNode, # node to be removed\n",
    "    ) -> None:\n",
    "        \"\"\"Remove a node from the MDD, without any sanity checks.\"\"\"\n",
    "        for arc in self.get_node_data(rmvnode).incoming:\n",
    "            self.get_node_data(arc.tail).outgoing.remove(arc)\n",
    "        for arc in self.get_node_data(rmvnode).outgoing:\n",
    "            self.get_node_data(arc.head).incoming.remove(arc)\n",
    "        del self.nodes[rmvnode.layer][rmvnode]\n",
    "\n",
    "    def remove_nodes(\n",
    "        self,\n",
    "        rmvnodes: Iterable[MDDNode], # nodes to be removed\n",
    "    ) -> None:\n",
    "        \"\"\"Remove nodes from the MDD, without any sanity checks.\"\"\"\n",
    "        for node in rmvnodes:\n",
    "            self.remove_node(node)\n",
    "\n",
    "    @staticmethod\n",
    "    def _default_adfun(d: MDDArcData, ns: MDDNodeState, nt: MDDNodeState, j: int) -> MDDArcData:\n",
    "        \"\"\"By default, use the original arc data.\"\"\"\n",
    "        return d\n",
    "\n",
    "    def merge_nodes(\n",
    "        self,\n",
    "        mnodes: Collection[MDDNode],\n",
    "        mlayer: int,\n",
    "        nsfun: Callable[[Collection[MDDNodeState], int], MDDNodeState],\n",
    "        adinfun: Optional[Callable[[MDDArcData, MDDNodeState, MDDNodeState, int], MDDArcData]] = None,\n",
    "        adoutfun: Optional[Callable[[MDDArcData, MDDNodeState, MDDNodeState, int], MDDArcData]] = None,\n",
    "    ) -> MDDNode:\n",
    "        \"\"\"Merge specified nodes into a new supernode, and modify arcs appropriately.\n",
    "\n",
    "        NOTE: All nodes to be merged must be located on the same layer.\n",
    "\n",
    "        Parameters\n",
    "        ----------\n",
    "        mnodes : Collection[MDDNode]\n",
    "            nodes to be merged together\n",
    "        mlayer : int\n",
    "            layer containing all nodes to be merged\n",
    "        nsfun : Callable[[Collection[MDDNodeState], int], MDDNodeState]\n",
    "            nsfun(slist,j) returns the node state resulting from merging node states in 'slist' in layer 'j'\n",
    "        adinfun : Optional[Callable[[MDDArcData, MDDNodeState, MDDNodeState, int], MDDArcData]]\n",
    "            adinfun(d,os,ms,j) returns the adjusted data of an arc with data 'd', old head node state 'os', and new head node (i.e., merged supernode in layer 'j') state 'ms';\n",
    "            if adinfun is None (default), the original arc data is used\n",
    "        adoutfun : Optional[Callable[[MDDArcData, MDDNodeState, MDDNodeState, int], MDDArcData]]\n",
    "            adoutfun(d,os,ms,j) returns the adjusted data of an arc with data 'd', old tail node state 'os', and new tail node (i.e., merged supernode in layer 'j') state 'ms';\n",
    "            if adoutfun is None (default), the original arc data is used\n",
    "\n",
    "        Returns\n",
    "        -------\n",
    "        MDDNode\n",
    "            new merged supernode\n",
    "        \"\"\"\n",
    "        if adinfun is None:\n",
    "            adinfun = self._default_adfun\n",
    "        if adoutfun is None:\n",
    "            adoutfun = self._default_adfun\n",
    "\n",
    "        # Create new supernode, and new incoming / outgoing arcs\n",
    "        mState = nsfun([v.state for v in mnodes], mlayer)\n",
    "        mNode = MDDNode(mlayer, mState)\n",
    "\n",
    "        newIncoming = dict()\n",
    "        newOutgoing = dict()\n",
    "        for v in mnodes:\n",
    "            node_data = self.get_node_data(v)\n",
    "            for inarc in node_data.incoming:\n",
    "                new_inarc = MDDArc(inarc.label, inarc.tail, mNode)\n",
    "                new_inarc_data = adinfun(self.arcs[inarc], inarc.head.state, mState, mlayer)\n",
    "                newIncoming[new_inarc] = new_inarc_data\n",
    "            for outarc in node_data.outgoing:\n",
    "                new_outarc = MDDArc(outarc.label, mNode, outarc.head)\n",
    "                new_outarc_data = adoutfun(self.arcs[outarc], outarc.tail.state, mState, mlayer)\n",
    "                newOutgoing[new_outarc] = new_outarc_data\n",
    "\n",
    "        # Delete merged nodes\n",
    "        for v in mnodes:\n",
    "            self.remove_node(v)\n",
    "\n",
    "        # Add supernode and its arcs to MDD\n",
    "        self.add_node(mNode)\n",
    "        self.add_arcs(newIncoming)\n",
    "        self.add_arcs(newOutgoing)\n",
    "\n",
    "        # Return new merged supernode\n",
    "        return mNode"
   ]
  },
  {
   "cell_type": "markdown",
   "metadata": {},
   "source": [
    "The `MDD` is the core object of this module, representing a multivalued decision diagram. An MDD starts out empty, with 0 node layers and -1 arc layers. In addition to basic getter methods, it has a `__str__` method for pretty printing its current state."
   ]
  },
  {
   "cell_type": "code",
   "execution_count": null,
   "metadata": {},
   "outputs": [
    {
     "name": "stdout",
     "output_type": "stream",
     "text": [
      "mdd0 = == MDD (mdd, -1 layers) ==\n",
      "# Nodes\n",
      "# (Outgoing) Arcs\n",
      "\n",
      "num_node_layers = 0\n",
      "num_arc_layers = -1\n"
     ]
    }
   ],
   "source": [
    "mdd0 = MDD()\n",
    "print(f\"mdd0 = {mdd0}\")\n",
    "print(f\"num_node_layers = {mdd0.num_node_layers}\")\n",
    "print(f\"num_arc_layers = {mdd0.num_arc_layers}\")"
   ]
  },
  {
   "cell_type": "markdown",
   "metadata": {},
   "source": [
    "## MDD: Basic operations"
   ]
  },
  {
   "cell_type": "code",
   "execution_count": null,
   "metadata": {},
   "outputs": [
    {
     "data": {
      "text/markdown": [
       "---\n",
       "\n",
       "[source](https://github.com/rkimura47/python-mdd/blob/main/python_mdd/mdd.py#L200){target=\"_blank\" style=\"float:right; font-size:smaller\"}\n",
       "\n",
       "### MDD.clear\n",
       "\n",
       ">      MDD.clear ()\n",
       "\n",
       "*Reset the MDD.*"
      ],
      "text/plain": [
       "---\n",
       "\n",
       "[source](https://github.com/rkimura47/python-mdd/blob/main/python_mdd/mdd.py#L200){target=\"_blank\" style=\"float:right; font-size:smaller\"}\n",
       "\n",
       "### MDD.clear\n",
       "\n",
       ">      MDD.clear ()\n",
       "\n",
       "*Reset the MDD.*"
      ]
     },
     "execution_count": null,
     "metadata": {},
     "output_type": "execute_result"
    }
   ],
   "source": [
    "show_doc(MDD.clear)"
   ]
  },
  {
   "cell_type": "code",
   "execution_count": null,
   "metadata": {},
   "outputs": [
    {
     "data": {
      "text/markdown": [
       "---\n",
       "\n",
       "[source](https://github.com/rkimura47/python-mdd/blob/main/python_mdd/mdd.py#L204){target=\"_blank\" style=\"float:right; font-size:smaller\"}\n",
       "\n",
       "### MDD.append_new_layers\n",
       "\n",
       ">      MDD.append_new_layers (n:int=1)\n",
       "\n",
       "*Append new layers to the MDD.*\n",
       "\n",
       "|    | **Type** | **Default** | **Details** |\n",
       "| -- | -------- | ----------- | ----------- |\n",
       "| n | int | 1 | number of layers to append |\n",
       "| **Returns** | **None** |  |  |"
      ],
      "text/plain": [
       "---\n",
       "\n",
       "[source](https://github.com/rkimura47/python-mdd/blob/main/python_mdd/mdd.py#L204){target=\"_blank\" style=\"float:right; font-size:smaller\"}\n",
       "\n",
       "### MDD.append_new_layers\n",
       "\n",
       ">      MDD.append_new_layers (n:int=1)\n",
       "\n",
       "*Append new layers to the MDD.*\n",
       "\n",
       "|    | **Type** | **Default** | **Details** |\n",
       "| -- | -------- | ----------- | ----------- |\n",
       "| n | int | 1 | number of layers to append |\n",
       "| **Returns** | **None** |  |  |"
      ]
     },
     "execution_count": null,
     "metadata": {},
     "output_type": "execute_result"
    }
   ],
   "source": [
    "show_doc(MDD.append_new_layers)"
   ]
  },
  {
   "cell_type": "code",
   "execution_count": null,
   "metadata": {},
   "outputs": [
    {
     "data": {
      "text/markdown": [
       "---\n",
       "\n",
       "[source](https://github.com/rkimura47/python-mdd/blob/main/python_mdd/mdd.py#L211){target=\"_blank\" style=\"float:right; font-size:smaller\"}\n",
       "\n",
       "### MDD.get_node_data\n",
       "\n",
       ">      MDD.get_node_data (node:__main__.MDDNode)\n",
       "\n",
       "*Get `MDDNodeData` corresponding to `node`.\n",
       "\n",
       "Note this function can NOT be used to populate the underlying\n",
       "dictionary; it can only be used to reference the object.\n",
       "\n",
       "In general, you should use all_nodeitems_in_layer(...) if you\n",
       "want to update node data in a systematic manner. The author\n",
       "recommends only using this function if all_nodeitems_in_layer(...)\n",
       "cannot be used.*\n",
       "\n",
       "|    | **Type** | **Details** |\n",
       "| -- | -------- | ----------- |\n",
       "| node | MDDNode | node in MDD |\n",
       "| **Returns** | **MDDNodeData** |  |"
      ],
      "text/plain": [
       "---\n",
       "\n",
       "[source](https://github.com/rkimura47/python-mdd/blob/main/python_mdd/mdd.py#L211){target=\"_blank\" style=\"float:right; font-size:smaller\"}\n",
       "\n",
       "### MDD.get_node_data\n",
       "\n",
       ">      MDD.get_node_data (node:__main__.MDDNode)\n",
       "\n",
       "*Get `MDDNodeData` corresponding to `node`.\n",
       "\n",
       "Note this function can NOT be used to populate the underlying\n",
       "dictionary; it can only be used to reference the object.\n",
       "\n",
       "In general, you should use all_nodeitems_in_layer(...) if you\n",
       "want to update node data in a systematic manner. The author\n",
       "recommends only using this function if all_nodeitems_in_layer(...)\n",
       "cannot be used.*\n",
       "\n",
       "|    | **Type** | **Details** |\n",
       "| -- | -------- | ----------- |\n",
       "| node | MDDNode | node in MDD |\n",
       "| **Returns** | **MDDNodeData** |  |"
      ]
     },
     "execution_count": null,
     "metadata": {},
     "output_type": "execute_result"
    }
   ],
   "source": [
    "show_doc(MDD.get_node_data)"
   ]
  },
  {
   "cell_type": "code",
   "execution_count": null,
   "metadata": {},
   "outputs": [
    {
     "data": {
      "text/markdown": [
       "---\n",
       "\n",
       "[source](https://github.com/rkimura47/python-mdd/blob/main/python_mdd/mdd.py#L227){target=\"_blank\" style=\"float:right; font-size:smaller\"}\n",
       "\n",
       "### MDD.add_arc\n",
       "\n",
       ">      MDD.add_arc (newarc:__main__.MDDArc, newarc_data:__main__.MDDArcData)\n",
       "\n",
       "*Add an arc to the MDD, without any sanity checks.\n",
       "\n",
       "The head and tail nodes of the arc should already exist in the MDD.*\n",
       "\n",
       "|    | **Type** | **Details** |\n",
       "| -- | -------- | ----------- |\n",
       "| newarc | MDDArc | arc to be added |\n",
       "| newarc_data | MDDArcData | data for arc to be added |\n",
       "| **Returns** | **None** |  |"
      ],
      "text/plain": [
       "---\n",
       "\n",
       "[source](https://github.com/rkimura47/python-mdd/blob/main/python_mdd/mdd.py#L227){target=\"_blank\" style=\"float:right; font-size:smaller\"}\n",
       "\n",
       "### MDD.add_arc\n",
       "\n",
       ">      MDD.add_arc (newarc:__main__.MDDArc, newarc_data:__main__.MDDArcData)\n",
       "\n",
       "*Add an arc to the MDD, without any sanity checks.\n",
       "\n",
       "The head and tail nodes of the arc should already exist in the MDD.*\n",
       "\n",
       "|    | **Type** | **Details** |\n",
       "| -- | -------- | ----------- |\n",
       "| newarc | MDDArc | arc to be added |\n",
       "| newarc_data | MDDArcData | data for arc to be added |\n",
       "| **Returns** | **None** |  |"
      ]
     },
     "execution_count": null,
     "metadata": {},
     "output_type": "execute_result"
    }
   ],
   "source": [
    "show_doc(MDD.add_arc)"
   ]
  },
  {
   "cell_type": "code",
   "execution_count": null,
   "metadata": {},
   "outputs": [
    {
     "data": {
      "text/markdown": [
       "---\n",
       "\n",
       "[source](https://github.com/rkimura47/python-mdd/blob/main/python_mdd/mdd.py#L240){target=\"_blank\" style=\"float:right; font-size:smaller\"}\n",
       "\n",
       "### MDD.add_arcs\n",
       "\n",
       ">      MDD.add_arcs\n",
       ">                    (newarcs:collections.abc.Mapping[__main__.MDDArc,__main__.M\n",
       ">                    DDArcData])\n",
       "\n",
       "*Add arcs to the MDD, without any sanity checks.*\n",
       "\n",
       "|    | **Type** | **Details** |\n",
       "| -- | -------- | ----------- |\n",
       "| newarcs | Mapping | arcs and their data to be added |\n",
       "| **Returns** | **None** |  |"
      ],
      "text/plain": [
       "---\n",
       "\n",
       "[source](https://github.com/rkimura47/python-mdd/blob/main/python_mdd/mdd.py#L240){target=\"_blank\" style=\"float:right; font-size:smaller\"}\n",
       "\n",
       "### MDD.add_arcs\n",
       "\n",
       ">      MDD.add_arcs\n",
       ">                    (newarcs:collections.abc.Mapping[__main__.MDDArc,__main__.M\n",
       ">                    DDArcData])\n",
       "\n",
       "*Add arcs to the MDD, without any sanity checks.*\n",
       "\n",
       "|    | **Type** | **Details** |\n",
       "| -- | -------- | ----------- |\n",
       "| newarcs | Mapping | arcs and their data to be added |\n",
       "| **Returns** | **None** |  |"
      ]
     },
     "execution_count": null,
     "metadata": {},
     "output_type": "execute_result"
    }
   ],
   "source": [
    "show_doc(MDD.add_arcs)"
   ]
  },
  {
   "cell_type": "code",
   "execution_count": null,
   "metadata": {},
   "outputs": [
    {
     "data": {
      "text/markdown": [
       "---\n",
       "\n",
       "[source](https://github.com/rkimura47/python-mdd/blob/main/python_mdd/mdd.py#L248){target=\"_blank\" style=\"float:right; font-size:smaller\"}\n",
       "\n",
       "### MDD.remove_arc\n",
       "\n",
       ">      MDD.remove_arc (rmvarc:__main__.MDDArc)\n",
       "\n",
       "*Remove an arc from the MDD, without any sanity checks.*\n",
       "\n",
       "|    | **Type** | **Details** |\n",
       "| -- | -------- | ----------- |\n",
       "| rmvarc | MDDArc | arc to be removed |\n",
       "| **Returns** | **None** |  |"
      ],
      "text/plain": [
       "---\n",
       "\n",
       "[source](https://github.com/rkimura47/python-mdd/blob/main/python_mdd/mdd.py#L248){target=\"_blank\" style=\"float:right; font-size:smaller\"}\n",
       "\n",
       "### MDD.remove_arc\n",
       "\n",
       ">      MDD.remove_arc (rmvarc:__main__.MDDArc)\n",
       "\n",
       "*Remove an arc from the MDD, without any sanity checks.*\n",
       "\n",
       "|    | **Type** | **Details** |\n",
       "| -- | -------- | ----------- |\n",
       "| rmvarc | MDDArc | arc to be removed |\n",
       "| **Returns** | **None** |  |"
      ]
     },
     "execution_count": null,
     "metadata": {},
     "output_type": "execute_result"
    }
   ],
   "source": [
    "show_doc(MDD.remove_arc)"
   ]
  },
  {
   "cell_type": "code",
   "execution_count": null,
   "metadata": {},
   "outputs": [
    {
     "data": {
      "text/markdown": [
       "---\n",
       "\n",
       "[source](https://github.com/rkimura47/python-mdd/blob/main/python_mdd/mdd.py#L257){target=\"_blank\" style=\"float:right; font-size:smaller\"}\n",
       "\n",
       "### MDD.remove_arcs\n",
       "\n",
       ">      MDD.remove_arcs (rmvarcs:collections.abc.Iterable[__main__.MDDArc])\n",
       "\n",
       "*Remove arcs from the MDD, without any sanity checks.*\n",
       "\n",
       "|    | **Type** | **Details** |\n",
       "| -- | -------- | ----------- |\n",
       "| rmvarcs | Iterable | arcs to be removed |\n",
       "| **Returns** | **None** |  |"
      ],
      "text/plain": [
       "---\n",
       "\n",
       "[source](https://github.com/rkimura47/python-mdd/blob/main/python_mdd/mdd.py#L257){target=\"_blank\" style=\"float:right; font-size:smaller\"}\n",
       "\n",
       "### MDD.remove_arcs\n",
       "\n",
       ">      MDD.remove_arcs (rmvarcs:collections.abc.Iterable[__main__.MDDArc])\n",
       "\n",
       "*Remove arcs from the MDD, without any sanity checks.*\n",
       "\n",
       "|    | **Type** | **Details** |\n",
       "| -- | -------- | ----------- |\n",
       "| rmvarcs | Iterable | arcs to be removed |\n",
       "| **Returns** | **None** |  |"
      ]
     },
     "execution_count": null,
     "metadata": {},
     "output_type": "execute_result"
    }
   ],
   "source": [
    "show_doc(MDD.remove_arcs)"
   ]
  },
  {
   "cell_type": "code",
   "execution_count": null,
   "metadata": {},
   "outputs": [
    {
     "data": {
      "text/markdown": [
       "---\n",
       "\n",
       "[source](https://github.com/rkimura47/python-mdd/blob/main/python_mdd/mdd.py#L265){target=\"_blank\" style=\"float:right; font-size:smaller\"}\n",
       "\n",
       "### MDD.add_node\n",
       "\n",
       ">      MDD.add_node (newnode:__main__.MDDNode)\n",
       "\n",
       "*Add a node to the MDD, without any sanity checks.\n",
       "\n",
       "The node's layer should already exist in the MDD.\n",
       "\n",
       "NOTE: If an identical node already exists, its incoming and outgoing\n",
       "arcs will be ERASED!!!*\n",
       "\n",
       "|    | **Type** | **Details** |\n",
       "| -- | -------- | ----------- |\n",
       "| newnode | MDDNode | node to be added |\n",
       "| **Returns** | **None** |  |"
      ],
      "text/plain": [
       "---\n",
       "\n",
       "[source](https://github.com/rkimura47/python-mdd/blob/main/python_mdd/mdd.py#L265){target=\"_blank\" style=\"float:right; font-size:smaller\"}\n",
       "\n",
       "### MDD.add_node\n",
       "\n",
       ">      MDD.add_node (newnode:__main__.MDDNode)\n",
       "\n",
       "*Add a node to the MDD, without any sanity checks.\n",
       "\n",
       "The node's layer should already exist in the MDD.\n",
       "\n",
       "NOTE: If an identical node already exists, its incoming and outgoing\n",
       "arcs will be ERASED!!!*\n",
       "\n",
       "|    | **Type** | **Details** |\n",
       "| -- | -------- | ----------- |\n",
       "| newnode | MDDNode | node to be added |\n",
       "| **Returns** | **None** |  |"
      ]
     },
     "execution_count": null,
     "metadata": {},
     "output_type": "execute_result"
    }
   ],
   "source": [
    "show_doc(MDD.add_node)"
   ]
  },
  {
   "cell_type": "code",
   "execution_count": null,
   "metadata": {},
   "outputs": [
    {
     "data": {
      "text/markdown": [
       "---\n",
       "\n",
       "[source](https://github.com/rkimura47/python-mdd/blob/main/python_mdd/mdd.py#L278){target=\"_blank\" style=\"float:right; font-size:smaller\"}\n",
       "\n",
       "### MDD.add_nodes\n",
       "\n",
       ">      MDD.add_nodes (newnodes:collections.abc.Iterable[__main__.MDDNode])\n",
       "\n",
       "*Add nodes to the MDD, without any sanity checks.*\n",
       "\n",
       "|    | **Type** | **Details** |\n",
       "| -- | -------- | ----------- |\n",
       "| newnodes | Iterable | nodes to be added |\n",
       "| **Returns** | **None** |  |"
      ],
      "text/plain": [
       "---\n",
       "\n",
       "[source](https://github.com/rkimura47/python-mdd/blob/main/python_mdd/mdd.py#L278){target=\"_blank\" style=\"float:right; font-size:smaller\"}\n",
       "\n",
       "### MDD.add_nodes\n",
       "\n",
       ">      MDD.add_nodes (newnodes:collections.abc.Iterable[__main__.MDDNode])\n",
       "\n",
       "*Add nodes to the MDD, without any sanity checks.*\n",
       "\n",
       "|    | **Type** | **Details** |\n",
       "| -- | -------- | ----------- |\n",
       "| newnodes | Iterable | nodes to be added |\n",
       "| **Returns** | **None** |  |"
      ]
     },
     "execution_count": null,
     "metadata": {},
     "output_type": "execute_result"
    }
   ],
   "source": [
    "show_doc(MDD.add_nodes)"
   ]
  },
  {
   "cell_type": "code",
   "execution_count": null,
   "metadata": {},
   "outputs": [
    {
     "data": {
      "text/markdown": [
       "---\n",
       "\n",
       "[source](https://github.com/rkimura47/python-mdd/blob/main/python_mdd/mdd.py#L286){target=\"_blank\" style=\"float:right; font-size:smaller\"}\n",
       "\n",
       "### MDD.remove_node\n",
       "\n",
       ">      MDD.remove_node (rmvnode:__main__.MDDNode)\n",
       "\n",
       "*Remove a node from the MDD, without any sanity checks.*\n",
       "\n",
       "|    | **Type** | **Details** |\n",
       "| -- | -------- | ----------- |\n",
       "| rmvnode | MDDNode | node to be removed |\n",
       "| **Returns** | **None** |  |"
      ],
      "text/plain": [
       "---\n",
       "\n",
       "[source](https://github.com/rkimura47/python-mdd/blob/main/python_mdd/mdd.py#L286){target=\"_blank\" style=\"float:right; font-size:smaller\"}\n",
       "\n",
       "### MDD.remove_node\n",
       "\n",
       ">      MDD.remove_node (rmvnode:__main__.MDDNode)\n",
       "\n",
       "*Remove a node from the MDD, without any sanity checks.*\n",
       "\n",
       "|    | **Type** | **Details** |\n",
       "| -- | -------- | ----------- |\n",
       "| rmvnode | MDDNode | node to be removed |\n",
       "| **Returns** | **None** |  |"
      ]
     },
     "execution_count": null,
     "metadata": {},
     "output_type": "execute_result"
    }
   ],
   "source": [
    "show_doc(MDD.remove_node)"
   ]
  },
  {
   "cell_type": "code",
   "execution_count": null,
   "metadata": {},
   "outputs": [
    {
     "data": {
      "text/markdown": [
       "---\n",
       "\n",
       "[source](https://github.com/rkimura47/python-mdd/blob/main/python_mdd/mdd.py#L297){target=\"_blank\" style=\"float:right; font-size:smaller\"}\n",
       "\n",
       "### MDD.remove_nodes\n",
       "\n",
       ">      MDD.remove_nodes (rmvnodes:collections.abc.Iterable[__main__.MDDNode])\n",
       "\n",
       "*Remove nodes from the MDD, without any sanity checks.*\n",
       "\n",
       "|    | **Type** | **Details** |\n",
       "| -- | -------- | ----------- |\n",
       "| rmvnodes | Iterable | nodes to be removed |\n",
       "| **Returns** | **None** |  |"
      ],
      "text/plain": [
       "---\n",
       "\n",
       "[source](https://github.com/rkimura47/python-mdd/blob/main/python_mdd/mdd.py#L297){target=\"_blank\" style=\"float:right; font-size:smaller\"}\n",
       "\n",
       "### MDD.remove_nodes\n",
       "\n",
       ">      MDD.remove_nodes (rmvnodes:collections.abc.Iterable[__main__.MDDNode])\n",
       "\n",
       "*Remove nodes from the MDD, without any sanity checks.*\n",
       "\n",
       "|    | **Type** | **Details** |\n",
       "| -- | -------- | ----------- |\n",
       "| rmvnodes | Iterable | nodes to be removed |\n",
       "| **Returns** | **None** |  |"
      ]
     },
     "execution_count": null,
     "metadata": {},
     "output_type": "execute_result"
    }
   ],
   "source": [
    "show_doc(MDD.remove_nodes)"
   ]
  },
  {
   "cell_type": "markdown",
   "metadata": {},
   "source": [
    "To populate the MDD, you must first add the necessary layers, then the nodes and arcs. Note that the basic functions do not perform any sanity checks, so it's the programmer's responsibility to avoid errors."
   ]
  },
  {
   "cell_type": "code",
   "execution_count": null,
   "metadata": {},
   "outputs": [
    {
     "name": "stdout",
     "output_type": "stream",
     "text": [
      "mdd0 = == MDD (mdd, 1 layers) ==\n",
      "# Nodes\n",
      "L0: N_0((1, 2, 3))\n",
      "L1: N_1((1, 3))\n",
      "# (Outgoing) Arcs\n",
      "A(2:N_0((1, 2, 3)),N_1((1, 3))):<0>\n"
     ]
    }
   ],
   "source": [
    "mdd0.append_new_layers(n=2)\n",
    "mdd0.add_nodes([n1, n2])\n",
    "mdd0.add_arc(a1_2, MDDArcData(0))\n",
    "print(f\"mdd0 = {mdd0}\")"
   ]
  },
  {
   "cell_type": "code",
   "execution_count": null,
   "metadata": {},
   "outputs": [
    {
     "name": "stdout",
     "output_type": "stream",
     "text": [
      "\u001b[32m.\u001b[0m\u001b[32m                                                                                            [100%]\u001b[0m\n"
     ]
    }
   ],
   "source": [
    "%%ipytest\n",
    "#| hide\n",
    "def test_basic_mdd_operations() -> None:\n",
    "    mymdd = MDD()\n",
    "    assert mymdd.num_node_layers == 0\n",
    "    assert mymdd.num_arc_layers == -1\n",
    "    assert list(mymdd.all_nodes()) == []\n",
    "    \n",
    "    mymdd.append_new_layers()\n",
    "    mynode0 = MDDNode(0, 0)\n",
    "    mymdd.add_node(mynode0)\n",
    "    mymdd.append_new_layers()\n",
    "    assert mymdd.width_list == [1,0]\n",
    "    \n",
    "    mynode1 = MDDNode(1, 1)\n",
    "    mymdd.add_node(mynode1)\n",
    "    mynode2 = MDDNode(1, 2)\n",
    "    mymdd.add_node(mynode2)\n",
    "    assert mymdd.num_node_layers == 2\n",
    "    assert mymdd.width_list == [1,2]\n",
    "    assert mymdd.max_width == 2\n",
    "    \n",
    "    myarc0_1 = MDDArc(0, mynode0, mynode1)\n",
    "    myarc0_2 = MDDArc(1, mynode0, mynode2)\n",
    "    mymdd.add_arc(myarc0_1, MDDArcData(0))\n",
    "    mymdd.add_arc(myarc0_2, MDDArcData(10))\n",
    "    assert list(mymdd.all_outgoing_arcs()) == [myarc0_1, myarc0_2]\n",
    "    assert list(mymdd.all_incoming_arcs()) == [myarc0_1, myarc0_2]\n",
    "    \n",
    "    mymdd.remove_node(mynode2)\n",
    "    assert mynode2 not in list(mymdd.all_nodes())\n",
    "    assert list(mymdd.all_outgoing_arcs()) == [myarc0_1]\n",
    "    assert list(mymdd.all_incoming_arcs()) == [myarc0_1]\n",
    "\n",
    "test_basic_mdd_operations()"
   ]
  },
  {
   "cell_type": "code",
   "execution_count": null,
   "metadata": {},
   "outputs": [
    {
     "data": {
      "text/markdown": [
       "---\n",
       "\n",
       "[source](https://github.com/rkimura47/python-mdd/blob/main/python_mdd/mdd.py#L310){target=\"_blank\" style=\"float:right; font-size:smaller\"}\n",
       "\n",
       "### MDD.merge_nodes\n",
       "\n",
       ">      MDD.merge_nodes (mnodes:collections.abc.Collection[__main__.MDDNode],\n",
       ">                       mlayer:int, nsfun:collections.abc.Callable[[collections.\n",
       ">                       abc.Collection[collections.abc.Hashable],int],collection\n",
       ">                       s.abc.Hashable], adinfun:Optional[collections.abc.Callab\n",
       ">                       le[[__main__.MDDArcData,collections.abc.Hashable,collect\n",
       ">                       ions.abc.Hashable,int],__main__.MDDArcData]]=None, adout\n",
       ">                       fun:Optional[collections.abc.Callable[[__main__.MDDArcDa\n",
       ">                       ta,collections.abc.Hashable,collections.abc.Hashable,int\n",
       ">                       ],__main__.MDDArcData]]=None)\n",
       "\n",
       "*Merge specified nodes into a new supernode, and modify arcs appropriately.\n",
       "\n",
       "NOTE: All nodes to be merged must be located on the same layer.*\n",
       "\n",
       "|    | **Type** | **Default** | **Details** |\n",
       "| -- | -------- | ----------- | ----------- |\n",
       "| mnodes | Collection |  | nodes to be merged together |\n",
       "| mlayer | int |  | layer containing all nodes to be merged |\n",
       "| nsfun | Callable |  | nsfun(slist,j) returns the node state resulting from merging node states in 'slist' in layer 'j' |\n",
       "| adinfun | Optional | None | adinfun(d,os,ms,j) returns the adjusted data of an arc with data 'd', old head node state 'os', and new head node (i.e., merged supernode in layer 'j') state 'ms';<br>if adinfun is None (default), the original arc data is used |\n",
       "| adoutfun | Optional | None | adoutfun(d,os,ms,j) returns the adjusted data of an arc with data 'd', old tail node state 'os', and new tail node (i.e., merged supernode in layer 'j') state 'ms';<br>if adoutfun is None (default), the original arc data is used |\n",
       "| **Returns** | **MDDNode** |  | **new merged supernode** |"
      ],
      "text/plain": [
       "---\n",
       "\n",
       "[source](https://github.com/rkimura47/python-mdd/blob/main/python_mdd/mdd.py#L310){target=\"_blank\" style=\"float:right; font-size:smaller\"}\n",
       "\n",
       "### MDD.merge_nodes\n",
       "\n",
       ">      MDD.merge_nodes (mnodes:collections.abc.Collection[__main__.MDDNode],\n",
       ">                       mlayer:int, nsfun:collections.abc.Callable[[collections.\n",
       ">                       abc.Collection[collections.abc.Hashable],int],collection\n",
       ">                       s.abc.Hashable], adinfun:Optional[collections.abc.Callab\n",
       ">                       le[[__main__.MDDArcData,collections.abc.Hashable,collect\n",
       ">                       ions.abc.Hashable,int],__main__.MDDArcData]]=None, adout\n",
       ">                       fun:Optional[collections.abc.Callable[[__main__.MDDArcDa\n",
       ">                       ta,collections.abc.Hashable,collections.abc.Hashable,int\n",
       ">                       ],__main__.MDDArcData]]=None)\n",
       "\n",
       "*Merge specified nodes into a new supernode, and modify arcs appropriately.\n",
       "\n",
       "NOTE: All nodes to be merged must be located on the same layer.*\n",
       "\n",
       "|    | **Type** | **Default** | **Details** |\n",
       "| -- | -------- | ----------- | ----------- |\n",
       "| mnodes | Collection |  | nodes to be merged together |\n",
       "| mlayer | int |  | layer containing all nodes to be merged |\n",
       "| nsfun | Callable |  | nsfun(slist,j) returns the node state resulting from merging node states in 'slist' in layer 'j' |\n",
       "| adinfun | Optional | None | adinfun(d,os,ms,j) returns the adjusted data of an arc with data 'd', old head node state 'os', and new head node (i.e., merged supernode in layer 'j') state 'ms';<br>if adinfun is None (default), the original arc data is used |\n",
       "| adoutfun | Optional | None | adoutfun(d,os,ms,j) returns the adjusted data of an arc with data 'd', old tail node state 'os', and new tail node (i.e., merged supernode in layer 'j') state 'ms';<br>if adoutfun is None (default), the original arc data is used |\n",
       "| **Returns** | **MDDNode** |  | **new merged supernode** |"
      ]
     },
     "execution_count": null,
     "metadata": {},
     "output_type": "execute_result"
    }
   ],
   "source": [
    "show_doc(MDD.merge_nodes)"
   ]
  },
  {
   "cell_type": "markdown",
   "metadata": {},
   "source": [
    "You can merge nodes in an MDD to reduce its size. Depending on the merging rule, this will typically result in an relaxation or restriction of the original MDD. The basic `merge_nodes()` function is configured based on node state functions, and is quite flexible. However, it can only merge nodes on the same layer."
   ]
  },
  {
   "cell_type": "code",
   "execution_count": null,
   "metadata": {},
   "outputs": [
    {
     "name": "stdout",
     "output_type": "stream",
     "text": [
      "== MDD (mdd, 2 layers) ==\n",
      "# Nodes\n",
      "L0: N_0(0)\n",
      "L1: N_1(1), N_1(2), N_1(3)\n",
      "L2: N_2(4)\n",
      "# (Outgoing) Arcs\n",
      "A(1:N_0(0),N_1(1)):<1>, A(2:N_0(0),N_1(2)):<2>, A(3:N_0(0),N_1(3)):<3>, A(14:N_1(1),N_2(4)):<-1>, A(24:N_1(2),N_2(4)):<-2>, A(34:N_1(3),N_2(4)):<-3>\n",
      "\n",
      "== MDD (mdd, 2 layers) ==\n",
      "# Nodes\n",
      "L0: N_0(0)\n",
      "L1: N_1(3)\n",
      "L2: N_2(4)\n",
      "# (Outgoing) Arcs\n",
      "A(1:N_0(0),N_1(3)):<1>, A(2:N_0(0),N_1(3)):<2>, A(3:N_0(0),N_1(3)):<3>, A(14:N_1(3),N_2(4)):<-1>, A(24:N_1(3),N_2(4)):<-2>, A(34:N_1(3),N_2(4)):<-3>\n",
      "\u001b[32m.\u001b[0m\u001b[32m                                                                                            [100%]\u001b[0m\n"
     ]
    }
   ],
   "source": [
    "%%ipytest\n",
    "def test_merge_nodes() -> None:\n",
    "    mymdd = MDD()\n",
    "    mymdd.append_new_layers()\n",
    "    n0 = MDDNode(0, 0)\n",
    "    mymdd.add_node(n0)\n",
    "    mymdd.append_new_layers()\n",
    "    n1 = MDDNode(1, 1)\n",
    "    n2 = MDDNode(1, 2)\n",
    "    n3 = MDDNode(1, 3)\n",
    "    mymdd.add_nodes([n1, n2, n3])\n",
    "    mymdd.append_new_layers()\n",
    "    n4 = MDDNode(2, 4)\n",
    "    mymdd.add_node(n4)\n",
    "    all_arcs = {\n",
    "        MDDArc(1, n0, n1): MDDArcData(1),\n",
    "        MDDArc(2, n0, n2): MDDArcData(2),\n",
    "        MDDArc(3, n0, n3): MDDArcData(3),\n",
    "        MDDArc(14, n1, n4): MDDArcData(-1),\n",
    "        MDDArc(24, n2, n4): MDDArcData(-2),\n",
    "        MDDArc(34, n3, n4): MDDArcData(-3),\n",
    "    }\n",
    "    mymdd.add_arcs(all_arcs)\n",
    "    print(mymdd)\n",
    "    print()\n",
    "    mymdd.merge_nodes([n1, n2, n3], 1, lambda ns, l: max(s for s in ns))\n",
    "    print(mymdd)\n",
    "    assert len(list(mymdd.all_nodes())) == 3\n",
    "    assert {a.label for a in mymdd.all_outgoing_arcs()} == {1, 2, 3, 14, 24, 34}\n",
    "\n",
    "test_merge_nodes()"
   ]
  },
  {
   "cell_type": "code",
   "execution_count": null,
   "metadata": {},
   "outputs": [
    {
     "name": "stdout",
     "output_type": "stream",
     "text": [
      "== MDD (mdd, 1 layers) ==\n",
      "# Nodes\n",
      "L0: N_0(0)\n",
      "L1: N_1(2), N_1(1)\n",
      "# (Outgoing) Arcs\n",
      "\n",
      "\u001b[32m.\u001b[0m\u001b[32m                                                                                            [100%]\u001b[0m\n"
     ]
    }
   ],
   "source": [
    "%%ipytest\n",
    "#| hide\n",
    "def test_merge_one_node() -> None:\n",
    "    mymdd = MDD()\n",
    "    mymdd.append_new_layers()\n",
    "    mymdd.add_node(MDDNode(0, 0))\n",
    "    mymdd.append_new_layers()\n",
    "    n1 = MDDNode(1, 1)\n",
    "    n2 = MDDNode(1, 2)\n",
    "    mymdd.add_nodes([n1, n2])\n",
    "    mymdd.merge_nodes([n1], 1, lambda ns, l: max(s for s in ns))\n",
    "    print(mymdd)\n",
    "    assert len(list(mymdd.all_nodes())) == 3\n",
    "    assert set(mymdd.allnodes_in_layer(1)) == {n1, n2}\n",
    "\n",
    "test_merge_one_node()"
   ]
  },
  {
   "cell_type": "markdown",
   "metadata": {},
   "source": [
    "While `MDD` does not explicitly forbid \"skip arcs\" (arcs that connect nodes in non-adjacent layers), most functionality is designed assuming there are no skip arcs."
   ]
  },
  {
   "cell_type": "code",
   "execution_count": null,
   "metadata": {},
   "outputs": [
    {
     "name": "stdout",
     "output_type": "stream",
     "text": [
      "== MDD (mdd, 3 layers) ==\n",
      "# Nodes\n",
      "L0: N_0(0)\n",
      "L1: N_1(1)\n",
      "L2: N_2(2)\n",
      "L3: N_3(3)\n",
      "# (Outgoing) Arcs\n",
      "A(1:N_0(0),N_1(1)):<1>, A(2:N_1(1),N_2(2)):<2>, A(2:N_2(2),N_3(3)):<2>\n",
      "\n",
      "\u001b[32m.\u001b[0m\u001b[32m                                                                                            [100%]\u001b[0m\n"
     ]
    }
   ],
   "source": [
    "%%ipytest\n",
    "def test_merge_skip_arcs_fails() -> None:\n",
    "    mymdd = MDD()\n",
    "    mymdd.append_new_layers(4)\n",
    "    n0 = MDDNode(0, 0)\n",
    "    n1 = MDDNode(1, 1)\n",
    "    n2 = MDDNode(2, 2)\n",
    "    n3 = MDDNode(3, 3)\n",
    "    mymdd.add_nodes([n0, n1, n2, n3])\n",
    "    mymdd.add_arcs({MDDArc(1, n0, n1): MDDArcData(1), MDDArc(2, n1, n2): MDDArcData(2), MDDArc(2, n2, n3): MDDArcData(2)})\n",
    "    print(mymdd)\n",
    "    print()\n",
    "    with pytest.raises(KeyError):\n",
    "        mymdd.merge_nodes([n1, n2], 1, lambda ns, l: max(ns))\n",
    "        print(mymdd)\n",
    "\n",
    "test_merge_skip_arcs_fails()"
   ]
  },
  {
   "cell_type": "code",
   "execution_count": null,
   "metadata": {},
   "outputs": [
    {
     "name": "stdout",
     "output_type": "stream",
     "text": [
      "== MDD (mdd, 3 layers) ==\n",
      "# Nodes\n",
      "L0: N_0(0)\n",
      "L1: N_1(1)\n",
      "L2: N_2(2)\n",
      "L3: N_3(3)\n",
      "# (Outgoing) Arcs\n",
      "A(a:N_0(0),N_1(1)):<1>, A(b:N_0(0),N_2(2)):<2>, A(c:N_1(1),N_3(3)):<2>, A(d:N_2(2),N_3(3)):<1>\n",
      "\n",
      "== MDD (mdd, 3 layers) ==\n",
      "# Nodes\n",
      "L0: N_0(0)\n",
      "L1: \n",
      "L2: N_2(2)\n",
      "L3: N_3(3)\n",
      "# (Outgoing) Arcs\n",
      "A(a:N_0(0),N_2(2)):<1>, A(b:N_0(0),N_2(2)):<2>, A(c:N_2(2),N_3(3)):<2>, A(d:N_2(2),N_3(3)):<1>\n",
      "\u001b[32m.\u001b[0m\u001b[32m                                                                                            [100%]\u001b[0m\n"
     ]
    }
   ],
   "source": [
    "%%ipytest\n",
    "def test_merge_skip_arcs_works_sometimes() -> None:\n",
    "    mymdd = MDD()\n",
    "    mymdd.append_new_layers(4)\n",
    "    n0 = MDDNode(0, 0)\n",
    "    n1 = MDDNode(1, 1)\n",
    "    n2 = MDDNode(2, 2)\n",
    "    n3 = MDDNode(3, 3)\n",
    "    mymdd.add_nodes([n0, n1, n2, n3])\n",
    "    mymdd.add_arcs({\n",
    "        MDDArc(\"a\", n0, n1): MDDArcData(1),\n",
    "        MDDArc(\"b\", n0, n2): MDDArcData(2),\n",
    "        MDDArc(\"c\", n1, n3): MDDArcData(2),\n",
    "        MDDArc(\"d\", n2, n3): MDDArcData(1),\n",
    "    })\n",
    "    print(mymdd)\n",
    "    print()\n",
    "    mymdd.merge_nodes([n1, n2], 2, lambda ns, l: max(ns))\n",
    "    print(mymdd)\n",
    "    assert len(list(mymdd.allnodes_in_layer(1))) == 0\n",
    "    assert {a.label for a in mymdd.all_outgoing_arcs()} == {\"a\", \"b\", \"c\", \"d\"}\n",
    "\n",
    "test_merge_skip_arcs_works_sometimes()"
   ]
  },
  {
   "cell_type": "code",
   "execution_count": null,
   "metadata": {},
   "outputs": [],
   "source": [
    "#| hide\n",
    "import nbdev; nbdev.nbdev_export()"
   ]
  }
 ],
 "metadata": {
  "kernelspec": {
   "display_name": "python3",
   "language": "python",
   "name": "python3"
  }
 },
 "nbformat": 4,
 "nbformat_minor": 4
}
