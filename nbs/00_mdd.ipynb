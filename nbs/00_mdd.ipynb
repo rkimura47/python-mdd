{
 "cells": [
  {
   "cell_type": "markdown",
   "metadata": {},
   "source": [
    "# mdd\n",
    "\n",
    "> Objects representing a multivalued decision diagram."
   ]
  },
  {
   "cell_type": "code",
   "execution_count": null,
   "metadata": {},
   "outputs": [],
   "source": [
    "#| default_exp mdd"
   ]
  },
  {
   "cell_type": "code",
   "execution_count": null,
   "metadata": {},
   "outputs": [],
   "source": [
    "#| hide\n",
    "from nbdev.showdoc import *"
   ]
  },
  {
   "cell_type": "code",
   "execution_count": null,
   "metadata": {},
   "outputs": [],
   "source": [
    "#| export\n",
    "from collections.abc import Callable, Collection, Hashable, ItemsView, Iterable, Iterator, KeysView\n",
    "from itertools import chain\n",
    "from dataclasses import dataclass, field\n",
    "from typing import Optional"
   ]
  },
  {
   "cell_type": "code",
   "execution_count": null,
   "metadata": {},
   "outputs": [],
   "source": [
    "#| hide\n",
    "from fastcore.test import test_eq\n",
    "import traceback"
   ]
  },
  {
   "cell_type": "code",
   "execution_count": null,
   "metadata": {},
   "outputs": [],
   "source": [
    "#| export\n",
    "MDDNodeState = Hashable\n",
    "\n",
    "@dataclass(frozen=True)\n",
    "class MDDNode:\n",
    "    \"\"\"MDDNode represents a single node in the MDD.\n",
    "\n",
    "    An MDDNode is uniquely identified by its layer and state. The (node) state\n",
    "    must be a `collections.abc.Hashable` object.\n",
    "\n",
    "    Parameters\n",
    "    ----------\n",
    "    layer : int\n",
    "        layer the node is in\n",
    "    state : MDDNodeState\n",
    "        state associated with node\n",
    "\n",
    "    \"\"\"\n",
    "    layer: int\n",
    "    state: MDDNodeState\n",
    "\n",
    "    def __str__(self) -> str:\n",
    "        return f\"N_{self.layer}({self.state})\""
   ]
  },
  {
   "cell_type": "markdown",
   "metadata": {},
   "source": [
    "`MDDNode` represents a node in the decision diagram. It is uniquely identified by which layer the node is located in, and the node's state. The state should be hashable to ensure we can quickly identify when two nodes in the same layer are \"equivalent\"."
   ]
  },
  {
   "cell_type": "code",
   "execution_count": null,
   "metadata": {},
   "outputs": [
    {
     "name": "stdout",
     "output_type": "stream",
     "text": [
      "n1 = N_0((1, 2, 3))\n",
      "n2 = N_1((1, 3))\n",
      "n1_copy = N_0((1, 2, 3))\n",
      "`n1_copy is n1` -> False\n",
      "`n1_copy == n1` -> True\n"
     ]
    }
   ],
   "source": [
    "n1 = MDDNode(0, (1, 2, 3))\n",
    "n2 = MDDNode(1, (1, 3))\n",
    "n1_copy = MDDNode(0, (1, 2, 3))\n",
    "print(f\"n1 = {n1}\\nn2 = {n2}\\nn1_copy = {n1_copy}\")\n",
    "print(f\"`n1_copy is n1` -> {n1_copy is n1}\")\n",
    "print(f\"`n1_copy == n1` -> {n1_copy == n1}\")"
   ]
  },
  {
   "cell_type": "code",
   "execution_count": null,
   "metadata": {},
   "outputs": [],
   "source": [
    "#| export\n",
    "MDDArcLabel = Hashable\n",
    "\n",
    "@dataclass()\n",
    "class MDDArc:\n",
    "    \"\"\"MDDArc represents a single arc in the MDD.\n",
    "\n",
    "    An MDDArc is uniquely identified by its head/tail nodes, label, and weight.\n",
    "    The (arc) label must be a `collections.abc.Hashable` object.\n",
    "\n",
    "    Parameters\n",
    "    ----------\n",
    "    label : MDDArcLabel\n",
    "        label of arc (e.g., assigned value)\n",
    "    weight : float\n",
    "        weight of arc (e.g., coefficient)\n",
    "    tail : MDDNode\n",
    "        tail/source node\n",
    "    head : MDDNode\n",
    "        head/destination node\n",
    "\n",
    "    \"\"\"\n",
    "    label: MDDArcLabel\n",
    "    weight: float\n",
    "    tail: MDDNode\n",
    "    head: MDDNode\n",
    "\n",
    "    def __str__(self) -> str:\n",
    "        return f\"A({self.label},{self.weight}:{self.tail},{self.head})\""
   ]
  },
  {
   "cell_type": "markdown",
   "metadata": {},
   "source": [
    "`MDDArc` represents an arc in the decision diagram. It is uniquely identified by the combaintion of its tail node, head node, and label.\n",
    "\n",
    "Unlike `MDDNode`, `MDDArc` is NOT immutable; in particular, `MDDArc.weight` may be changed later."
   ]
  },
  {
   "cell_type": "code",
   "execution_count": null,
   "metadata": {},
   "outputs": [
    {
     "name": "stdout",
     "output_type": "stream",
     "text": [
      "Original: A(2,0:N_0((1, 2, 3)),N_1((1, 3)))\n",
      "After modification: A(2,2:N_0((1, 2, 3)),N_1((1, 3)))\n"
     ]
    }
   ],
   "source": [
    "a1_2 = MDDArc(2, 0, n1, n2)\n",
    "print(f\"Original: {a1_2}\")\n",
    "a1_2.weight = 2\n",
    "print(f\"After modification: {a1_2}\")"
   ]
  },
  {
   "cell_type": "code",
   "execution_count": null,
   "metadata": {},
   "outputs": [],
   "source": [
    "#| export\n",
    "@dataclass()\n",
    "class MDDNodeInfo:\n",
    "    \"\"\"MDDNodeInfo represents information associated with an MDDNode.\n",
    "\n",
    "    Parameters\n",
    "    ----------\n",
    "    incoming : list[MDDArc]\n",
    "        list of incoming arcs (default: [])\n",
    "    outgoing : list[MDDArc]\n",
    "        list of outgoing arcs (default: [])\n",
    "\n",
    "    \"\"\"\n",
    "    incoming: list[MDDArc] = field(default_factory=list)\n",
    "    outgoing: list[MDDArc] = field(default_factory=list)\n",
    "\n",
    "    def __str__(self) -> str:\n",
    "        incoming_str = \", \".join(str(a) for a in self.incoming)\n",
    "        outgoing_str = \", \".join(str(a) for a in self.outgoing)\n",
    "        return f\"<in=[{incoming_str}], out=[{outgoing_str}]>\""
   ]
  },
  {
   "cell_type": "markdown",
   "metadata": {},
   "source": [
    "`MDDNodeInfo` represents information assicated with a node in the decision diagram, and in particular its incoming and outgoing arcs."
   ]
  },
  {
   "cell_type": "code",
   "execution_count": null,
   "metadata": {},
   "outputs": [
    {
     "name": "stdout",
     "output_type": "stream",
     "text": [
      "info = <in=[], out=[A(2,2:N_0((1, 2, 3)),N_1((1, 3)))]>\n"
     ]
    }
   ],
   "source": [
    "node_info = MDDNodeInfo(incoming=[], outgoing=[a1_2])\n",
    "print(f\"info = {node_info}\")"
   ]
  },
  {
   "cell_type": "code",
   "execution_count": null,
   "metadata": {},
   "outputs": [],
   "source": [
    "#| export\n",
    "@dataclass()\n",
    "class MDD:\n",
    "    \"\"\"MDD represents a multivalued decision diagram, or MDD.\n",
    "\n",
    "    Parameters\n",
    "    ----------\n",
    "    name : str\n",
    "        name of MDD (default: 'mdd')\n",
    "    nodes : list[dict[MDDNode, MDDNodeInfo]]\n",
    "        nodes of MDD (default: [])\n",
    "\n",
    "    \"\"\"\n",
    "    name: str = \"mdd\"\n",
    "    nodes: list[dict[MDDNode, MDDNodeInfo]] = field(default_factory=list)\n",
    "\n",
    "    @property\n",
    "    def numNodeLayers(self) -> int:\n",
    "        \"\"\"Number of node layers; equal to number of 'variables' + 1.\"\"\"\n",
    "        return len(self.nodes)\n",
    "\n",
    "    @property\n",
    "    def numArcLayers(self) -> int:\n",
    "        \"\"\"Number of arc layers; equal to number of 'variables'.\"\"\"\n",
    "        return len(self.nodes) - 1\n",
    "\n",
    "    @property\n",
    "    def widthList(self) -> list[int]:\n",
    "        \"\"\"Number of nodes in each layer.\"\"\"\n",
    "        return [len(layer) for layer in self.nodes]\n",
    "\n",
    "    @property\n",
    "    def maxWidth(self) -> int:\n",
    "        \"\"\"Maximum number of nodes in a single node layer.\"\"\"\n",
    "        return max(len(layer) for layer in self.nodes)\n",
    "\n",
    "    def allnodes(self) -> Iterator[MDDNode]:\n",
    "        \"\"\"Iterate over all MDDNodes in the MDD.\"\"\"\n",
    "        return chain.from_iterable(l.keys() for l in self.nodes)\n",
    "\n",
    "    def allnodeitems_in_layer(\n",
    "        self,\n",
    "        layer: int, # index of layer\n",
    "    ) -> ItemsView[MDDNode, MDDNodeInfo]:\n",
    "        \"\"\"Return a view of all (MDDNode, MDDNodeInfo) pairs in a layer.\"\"\"\n",
    "        return self.nodes[layer].items()\n",
    "\n",
    "    def allnodes_in_layer(\n",
    "        self,\n",
    "        layer: int, # index of layer\n",
    "    ) -> KeysView[MDDNode]:\n",
    "        \"\"\"Return a view of all MDDNodes in a layer.\"\"\"\n",
    "        return self.nodes[layer]\n",
    "\n",
    "    def alloutgoingarcs(self) -> Iterator[MDDArc]:\n",
    "        \"\"\"Iterate over all outgoing arcs in the MDD.\"\"\"\n",
    "        return chain.from_iterable(ui.outgoing for j in range(self.numArcLayers) for ui in self.nodes[j].values())\n",
    "\n",
    "    def allincomingarcs(self) -> Iterator[MDDArc]:\n",
    "        \"\"\"Iterate over all incoming arcs in the MDD.\"\"\"\n",
    "        return chain.from_iterable(ui.incoming for j in range(self.numArcLayers) for ui in self.nodes[j+1].values())\n",
    "\n",
    "    def __str__(\n",
    "        self,\n",
    "        showLong: bool = False, # use more vertical space (default: False)\n",
    "        showIncoming: bool = False, # show incoming arcs (default: False)\n",
    "    ) -> str:\n",
    "        \"\"\"Return a (human-readable) string representation of the MDD.\"\"\"\n",
    "        s = '== MDD (' + self.name + ', ' + str(self.numArcLayers) + ' layers) ==\\n'\n",
    "        if showLong:\n",
    "            # Long form\n",
    "            s += '# Nodes\\n'\n",
    "            for (j, lyr) in enumerate(self.nodes):\n",
    "                s += 'L' + str(j) + ':\\n'\n",
    "                for v in lyr:\n",
    "                    s += '\\t' + str(v) + ': <'\n",
    "                    s += 'in={' + ', '.join(str(a) for a in self.nodes[j][v].incoming) + '}, '\n",
    "                    s += 'out={' + ', '.join(str(a) for a in self.nodes[j][v].outgoing) + '}'\n",
    "                    s += '>\\n'\n",
    "            s += '# (Outgoing) Arcs\\n'\n",
    "            s += '\\n'.join(str(a) for a in self.alloutgoingarcs())\n",
    "            if showIncoming:\n",
    "                s += '\\n# (Incoming) Arcs\\n'\n",
    "                s += '\\n'.join(str(a) for a in self.allincomingarcs())\n",
    "        else:\n",
    "            # Short form\n",
    "            s += '# Nodes\\n'\n",
    "            for (j, lyr) in enumerate(self.nodes):\n",
    "                s += 'L' + str(j) + ': '\n",
    "                s += ', '.join(str(v) for v in self.allnodes_in_layer(j)) + '\\n'\n",
    "            s += '# (Outgoing) Arcs\\n'\n",
    "            s += ', '.join(str(a) for a in self.alloutgoingarcs())\n",
    "            if showIncoming:\n",
    "                s += '\\n# (Incoming) Arcs\\n'\n",
    "                s += ', '.join(str(a) for a in self.allincomingarcs())\n",
    "        return s\n",
    "\n",
    "    def clear(self) -> None:\n",
    "        \"\"\"Reset the MDD.\"\"\"\n",
    "        self.nodes = []\n",
    "\n",
    "    def append_new_layers(\n",
    "        self,\n",
    "        n: int = 1 # number of layers to append\n",
    "    ) -> None:\n",
    "        \"\"\"Append new layers to the MDD.\"\"\"\n",
    "        self.nodes.extend([dict() for _ in range(n)])\n",
    "\n",
    "    def get_node_info(\n",
    "        self,\n",
    "        node: MDDNode, # node in MDD\n",
    "    ) -> MDDNodeInfo:\n",
    "        \"\"\"Get `MDDNodeInfo` corresponding to `node`.\n",
    "\n",
    "        Note this function can NOT be used to populate the underlying\n",
    "        dictionary; it can only be used to reference the object.\n",
    "\n",
    "        In general, you should use allnodeitems_in_layer(...) if you\n",
    "        want to update node info in a systematic manner. The author\n",
    "        recommends only using this function if allnodeitems_in_layer(...)\n",
    "        cannot be used.\n",
    "        \"\"\"\n",
    "        return self.nodes[node.layer][node]\n",
    "\n",
    "    def add_arc(\n",
    "        self,\n",
    "        newarc: MDDArc, # arc to be added\n",
    "    ) -> None:\n",
    "        \"\"\"Add an arc to the MDD, without any sanity checks.\n",
    "\n",
    "        The head and tail nodes of the arc should already exist in the MDD.\n",
    "        \"\"\"\n",
    "        self.get_node_info(newarc.tail).outgoing.append(newarc)\n",
    "        self.get_node_info(newarc.head).incoming.append(newarc)\n",
    "\n",
    "    def add_arcs(\n",
    "        self,\n",
    "        newarcs: Iterable[MDDArc], # arcs to be added\n",
    "    ) -> None:\n",
    "        \"\"\"Add arcs to the MDD, without any sanity checks.\"\"\"\n",
    "        for arc in newarcs:\n",
    "            self.add_arc(arc)\n",
    "\n",
    "    def remove_arc(\n",
    "        self,\n",
    "        rmvarc: MDDArc, # arc to be removed\n",
    "    ) -> None:\n",
    "        \"\"\"Remove an arc from the MDD, without any sanity checks.\"\"\"\n",
    "        self.get_node_info(rmvarc.tail).outgoing.remove(rmvarc)\n",
    "        self.get_node_info(rmvarc.head).incoming.remove(rmvarc)\n",
    "\n",
    "    def remove_arcs(\n",
    "        self,\n",
    "        rmvarcs: Iterable[MDDArc], # arcs to be removed\n",
    "    ) -> None:\n",
    "        \"\"\"Remove arcs from the MDD, without any sanity checks.\"\"\"\n",
    "        for arc in rmvarcs:\n",
    "            self.remove_arc(arc)\n",
    "\n",
    "    def add_node(\n",
    "        self,\n",
    "        newnode: MDDNode, # node to be added\n",
    "    ) -> None:\n",
    "        \"\"\"Add a node to the MDD, without any sanity checks.\n",
    "\n",
    "        The node's layer should already exist in the MDD.\n",
    "\n",
    "        NOTE: If an identical node already exists, its incoming and outgoing\n",
    "        arcs will be ERASED!!!\n",
    "        \"\"\"\n",
    "        self.nodes[newnode.layer][newnode] = MDDNodeInfo()\n",
    "\n",
    "    def add_nodes(\n",
    "        self,\n",
    "        newnodes: Iterable[MDDNode], # nodes to be added\n",
    "    ) -> None:\n",
    "        \"\"\"Add nodes to the MDD, without any sanity checks.\"\"\"\n",
    "        for node in newnodes:\n",
    "            self.add_node(node)\n",
    "\n",
    "    def remove_node(\n",
    "        self,\n",
    "        rmvnode: MDDNode, # node to be removed\n",
    "    ) -> None:\n",
    "        \"\"\"Remove a node from the MDD, without any sanity checks.\"\"\"\n",
    "        for arc in self.get_node_info(rmvnode).incoming:\n",
    "            self.get_node_info(arc.tail).outgoing.remove(arc)\n",
    "        for arc in self.get_node_info(rmvnode).outgoing:\n",
    "            self.get_node_info(arc.head).incoming.remove(arc)\n",
    "        del self.nodes[rmvnode.layer][rmvnode]\n",
    "\n",
    "    def remove_nodes(\n",
    "        self,\n",
    "        rmvnodes: Iterable[MDDNode], # nodes to be removed\n",
    "    ) -> None:\n",
    "        \"\"\"Remove nodes from the MDD, without any sanity checks.\"\"\"\n",
    "        for node in rmvnodes:\n",
    "            self.remove_node(node)\n",
    "\n",
    "    @staticmethod\n",
    "    def _default_awfun(w: float, ns: MDDNodeState, nt: MDDNodeState, j: int) -> float:\n",
    "        \"\"\"By default, do not adjust the weight of the arc.\"\"\"\n",
    "        return w\n",
    "\n",
    "    def merge_nodes(\n",
    "        self,\n",
    "        mnodes: Collection[MDDNode],\n",
    "        mlayer: int,\n",
    "        nsfun: Callable[[Collection[MDDNodeState], int], MDDNodeState],\n",
    "        awinfun: Optional[Callable[[float, MDDNodeState, MDDNodeState, int], float]] = None,\n",
    "        awoutfun: Optional[Callable[[float, MDDNodeState, MDDNodeState, int], float]] = None,\n",
    "    ) -> MDDNode:\n",
    "        \"\"\"Merge specified nodes into a new supernode, and modify arcs appropriately.\n",
    "\n",
    "        NOTE: All nodes to be merged must be located on the same layer.\n",
    "\n",
    "        Parameters\n",
    "        ----------\n",
    "        mnodes : Collection[MDDNode]\n",
    "            nodes to be merged together\n",
    "        mlayer : int\n",
    "            layer containing all nodes to be merged\n",
    "        nsfun : Callable[[Collection[MDDNodeState], int], MDDNodeState]\n",
    "            nsfun(slist,j) returns the node state resulting from merging node states in 'slist' in layer 'j'\n",
    "        awinfun : Optional[Callable[[float, MDDNodeState, MDDNodeState, int], float]]\n",
    "            awinfun(w,os,ms,j) returns the adjusted weight of an arc with weight 'w', old head node state 'os', and new head node (i.e., merged supernode in layer 'j') state 'ms';\n",
    "            if awfun is None (default), the original weight is used\n",
    "        awoutfun : Optional[Callable[[float, MDDNodeState, MDDNodeState, int], float]]\n",
    "            awoutfun(w,os,ms,j) returns the adjusted weight of an arc with weight 'w', old tail node state 'os', and new tail node (i.e., merged supernode in layer 'j') state 'ms';\n",
    "            if awoutfun is None (default), the original weight is used\n",
    "\n",
    "        Returns\n",
    "        -------\n",
    "        MDDNode\n",
    "            new merged supernode\n",
    "        \"\"\"\n",
    "        if awinfun is None:\n",
    "            awinfun = self._default_awfun\n",
    "        if awoutfun is None:\n",
    "            awoutfun = self._default_awfun\n",
    "\n",
    "        # Create new supernode, and new incoming / outgoing arcs\n",
    "        mState = nsfun([v.state for v in mnodes], mlayer)\n",
    "        mNode = MDDNode(mlayer, mState)\n",
    "\n",
    "        newIncoming = []\n",
    "        newOutgoing = []\n",
    "        for v in mnodes:\n",
    "            node_info = self.get_node_info(v)\n",
    "            for inarc in node_info.incoming:\n",
    "                new_inarc = MDDArc(inarc.label, awinfun(inarc.weight, inarc.head.state, mState, mlayer), inarc.tail, mNode)\n",
    "                newIncoming.append(new_inarc)\n",
    "            for outarc in node_info.outgoing:\n",
    "                new_outarc = MDDArc(outarc.label, awoutfun(outarc.weight, outarc.tail.state, mState, mlayer), mNode, outarc.head)\n",
    "                newOutgoing.append(new_outarc)\n",
    "\n",
    "        # Delete merged nodes\n",
    "        for v in mnodes:\n",
    "            self.remove_node(v)\n",
    "\n",
    "        # Add supernode and its arcs to MDD\n",
    "        self.add_node(mNode)\n",
    "        for inarc in newIncoming:\n",
    "            self.add_arc(inarc)\n",
    "        for outarc in newOutgoing:\n",
    "            self.add_arc(outarc)\n",
    "\n",
    "        # Return new merged supernode\n",
    "        return mNode"
   ]
  },
  {
   "cell_type": "markdown",
   "metadata": {},
   "source": [
    "The `MDD` is the core object of this module, representing a multivalued decision diagram. An MDD starts out empty, with 0 node layers and -1 arc layers. In addition to basic getter methods, it has a `__str__` method for pretty printing its current state."
   ]
  },
  {
   "cell_type": "code",
   "execution_count": null,
   "metadata": {},
   "outputs": [
    {
     "name": "stdout",
     "output_type": "stream",
     "text": [
      "mdd0 = == MDD (mdd, -1 layers) ==\n",
      "# Nodes\n",
      "# (Outgoing) Arcs\n",
      "\n",
      "numNodeLayers = 0\n",
      "numArcLayers = -1\n"
     ]
    }
   ],
   "source": [
    "mdd0 = MDD()\n",
    "print(f\"mdd0 = {mdd0}\")\n",
    "print(f\"numNodeLayers = {mdd0.numNodeLayers}\")\n",
    "print(f\"numArcLayers = {mdd0.numArcLayers}\")"
   ]
  },
  {
   "cell_type": "code",
   "execution_count": null,
   "metadata": {},
   "outputs": [
    {
     "data": {
      "text/markdown": [
       "---\n",
       "\n",
       "[source](https://github.com/rkimura47/python-mdd/blob/main/python_mdd/mdd.py#L184){target=\"_blank\" style=\"float:right; font-size:smaller\"}\n",
       "\n",
       "### MDD.clear\n",
       "\n",
       ">      MDD.clear ()\n",
       "\n",
       "*Reset the MDD.*"
      ],
      "text/plain": [
       "---\n",
       "\n",
       "[source](https://github.com/rkimura47/python-mdd/blob/main/python_mdd/mdd.py#L184){target=\"_blank\" style=\"float:right; font-size:smaller\"}\n",
       "\n",
       "### MDD.clear\n",
       "\n",
       ">      MDD.clear ()\n",
       "\n",
       "*Reset the MDD.*"
      ]
     },
     "execution_count": null,
     "metadata": {},
     "output_type": "execute_result"
    }
   ],
   "source": [
    "show_doc(MDD.clear)"
   ]
  },
  {
   "cell_type": "code",
   "execution_count": null,
   "metadata": {},
   "outputs": [
    {
     "data": {
      "text/markdown": [
       "---\n",
       "\n",
       "[source](https://github.com/rkimura47/python-mdd/blob/main/python_mdd/mdd.py#L188){target=\"_blank\" style=\"float:right; font-size:smaller\"}\n",
       "\n",
       "### MDD.append_new_layers\n",
       "\n",
       ">      MDD.append_new_layers (n:int=1)\n",
       "\n",
       "*Append new layers to the MDD.*\n",
       "\n",
       "|    | **Type** | **Default** | **Details** |\n",
       "| -- | -------- | ----------- | ----------- |\n",
       "| n | int | 1 | number of layers to append |\n",
       "| **Returns** | **None** |  |  |"
      ],
      "text/plain": [
       "---\n",
       "\n",
       "[source](https://github.com/rkimura47/python-mdd/blob/main/python_mdd/mdd.py#L188){target=\"_blank\" style=\"float:right; font-size:smaller\"}\n",
       "\n",
       "### MDD.append_new_layers\n",
       "\n",
       ">      MDD.append_new_layers (n:int=1)\n",
       "\n",
       "*Append new layers to the MDD.*\n",
       "\n",
       "|    | **Type** | **Default** | **Details** |\n",
       "| -- | -------- | ----------- | ----------- |\n",
       "| n | int | 1 | number of layers to append |\n",
       "| **Returns** | **None** |  |  |"
      ]
     },
     "execution_count": null,
     "metadata": {},
     "output_type": "execute_result"
    }
   ],
   "source": [
    "show_doc(MDD.append_new_layers)"
   ]
  },
  {
   "cell_type": "code",
   "execution_count": null,
   "metadata": {},
   "outputs": [
    {
     "data": {
      "text/markdown": [
       "---\n",
       "\n",
       "[source](https://github.com/rkimura47/python-mdd/blob/main/python_mdd/mdd.py#L195){target=\"_blank\" style=\"float:right; font-size:smaller\"}\n",
       "\n",
       "### MDD.get_node_info\n",
       "\n",
       ">      MDD.get_node_info (node:__main__.MDDNode)\n",
       "\n",
       "*Get `MDDNodeInfo` corresponding to `node`.\n",
       "\n",
       "Note this function can NOT be used to populate the underlying\n",
       "dictionary; it can only be used to reference the object.\n",
       "\n",
       "In general, you should use allnodeitems_in_layer(...) if you\n",
       "want to update node info in a systematic manner. The author\n",
       "recommends only using this function if allnodeitems_in_layer(...)\n",
       "cannot be used.*\n",
       "\n",
       "|    | **Type** | **Details** |\n",
       "| -- | -------- | ----------- |\n",
       "| node | MDDNode | node in MDD |\n",
       "| **Returns** | **MDDNodeInfo** |  |"
      ],
      "text/plain": [
       "---\n",
       "\n",
       "[source](https://github.com/rkimura47/python-mdd/blob/main/python_mdd/mdd.py#L195){target=\"_blank\" style=\"float:right; font-size:smaller\"}\n",
       "\n",
       "### MDD.get_node_info\n",
       "\n",
       ">      MDD.get_node_info (node:__main__.MDDNode)\n",
       "\n",
       "*Get `MDDNodeInfo` corresponding to `node`.\n",
       "\n",
       "Note this function can NOT be used to populate the underlying\n",
       "dictionary; it can only be used to reference the object.\n",
       "\n",
       "In general, you should use allnodeitems_in_layer(...) if you\n",
       "want to update node info in a systematic manner. The author\n",
       "recommends only using this function if allnodeitems_in_layer(...)\n",
       "cannot be used.*\n",
       "\n",
       "|    | **Type** | **Details** |\n",
       "| -- | -------- | ----------- |\n",
       "| node | MDDNode | node in MDD |\n",
       "| **Returns** | **MDDNodeInfo** |  |"
      ]
     },
     "execution_count": null,
     "metadata": {},
     "output_type": "execute_result"
    }
   ],
   "source": [
    "show_doc(MDD.get_node_info)"
   ]
  },
  {
   "cell_type": "code",
   "execution_count": null,
   "metadata": {},
   "outputs": [
    {
     "data": {
      "text/markdown": [
       "---\n",
       "\n",
       "[source](https://github.com/rkimura47/python-mdd/blob/main/python_mdd/mdd.py#L211){target=\"_blank\" style=\"float:right; font-size:smaller\"}\n",
       "\n",
       "### MDD.add_arc\n",
       "\n",
       ">      MDD.add_arc (newarc:__main__.MDDArc)\n",
       "\n",
       "*Add an arc to the MDD, without any sanity checks.\n",
       "\n",
       "The head and tail nodes of the arc should already exist in the MDD.*\n",
       "\n",
       "|    | **Type** | **Details** |\n",
       "| -- | -------- | ----------- |\n",
       "| newarc | MDDArc | arc to be added |\n",
       "| **Returns** | **None** |  |"
      ],
      "text/plain": [
       "---\n",
       "\n",
       "[source](https://github.com/rkimura47/python-mdd/blob/main/python_mdd/mdd.py#L211){target=\"_blank\" style=\"float:right; font-size:smaller\"}\n",
       "\n",
       "### MDD.add_arc\n",
       "\n",
       ">      MDD.add_arc (newarc:__main__.MDDArc)\n",
       "\n",
       "*Add an arc to the MDD, without any sanity checks.\n",
       "\n",
       "The head and tail nodes of the arc should already exist in the MDD.*\n",
       "\n",
       "|    | **Type** | **Details** |\n",
       "| -- | -------- | ----------- |\n",
       "| newarc | MDDArc | arc to be added |\n",
       "| **Returns** | **None** |  |"
      ]
     },
     "execution_count": null,
     "metadata": {},
     "output_type": "execute_result"
    }
   ],
   "source": [
    "show_doc(MDD.add_arc)"
   ]
  },
  {
   "cell_type": "code",
   "execution_count": null,
   "metadata": {},
   "outputs": [
    {
     "data": {
      "text/markdown": [
       "---\n",
       "\n",
       "[source](https://github.com/rkimura47/python-mdd/blob/main/python_mdd/mdd.py#L222){target=\"_blank\" style=\"float:right; font-size:smaller\"}\n",
       "\n",
       "### MDD.add_arcs\n",
       "\n",
       ">      MDD.add_arcs (newarcs:collections.abc.Iterable[__main__.MDDArc])\n",
       "\n",
       "*Add arcs to the MDD, without any sanity checks.*\n",
       "\n",
       "|    | **Type** | **Details** |\n",
       "| -- | -------- | ----------- |\n",
       "| newarcs | Iterable | arcs to be added |\n",
       "| **Returns** | **None** |  |"
      ],
      "text/plain": [
       "---\n",
       "\n",
       "[source](https://github.com/rkimura47/python-mdd/blob/main/python_mdd/mdd.py#L222){target=\"_blank\" style=\"float:right; font-size:smaller\"}\n",
       "\n",
       "### MDD.add_arcs\n",
       "\n",
       ">      MDD.add_arcs (newarcs:collections.abc.Iterable[__main__.MDDArc])\n",
       "\n",
       "*Add arcs to the MDD, without any sanity checks.*\n",
       "\n",
       "|    | **Type** | **Details** |\n",
       "| -- | -------- | ----------- |\n",
       "| newarcs | Iterable | arcs to be added |\n",
       "| **Returns** | **None** |  |"
      ]
     },
     "execution_count": null,
     "metadata": {},
     "output_type": "execute_result"
    }
   ],
   "source": [
    "show_doc(MDD.add_arcs)"
   ]
  },
  {
   "cell_type": "code",
   "execution_count": null,
   "metadata": {},
   "outputs": [
    {
     "data": {
      "text/markdown": [
       "---\n",
       "\n",
       "[source](https://github.com/rkimura47/python-mdd/blob/main/python_mdd/mdd.py#L230){target=\"_blank\" style=\"float:right; font-size:smaller\"}\n",
       "\n",
       "### MDD.remove_arc\n",
       "\n",
       ">      MDD.remove_arc (rmvarc:__main__.MDDArc)\n",
       "\n",
       "*Remove an arc from the MDD, without any sanity checks.*\n",
       "\n",
       "|    | **Type** | **Details** |\n",
       "| -- | -------- | ----------- |\n",
       "| rmvarc | MDDArc | arc to be removed |\n",
       "| **Returns** | **None** |  |"
      ],
      "text/plain": [
       "---\n",
       "\n",
       "[source](https://github.com/rkimura47/python-mdd/blob/main/python_mdd/mdd.py#L230){target=\"_blank\" style=\"float:right; font-size:smaller\"}\n",
       "\n",
       "### MDD.remove_arc\n",
       "\n",
       ">      MDD.remove_arc (rmvarc:__main__.MDDArc)\n",
       "\n",
       "*Remove an arc from the MDD, without any sanity checks.*\n",
       "\n",
       "|    | **Type** | **Details** |\n",
       "| -- | -------- | ----------- |\n",
       "| rmvarc | MDDArc | arc to be removed |\n",
       "| **Returns** | **None** |  |"
      ]
     },
     "execution_count": null,
     "metadata": {},
     "output_type": "execute_result"
    }
   ],
   "source": [
    "show_doc(MDD.remove_arc)"
   ]
  },
  {
   "cell_type": "code",
   "execution_count": null,
   "metadata": {},
   "outputs": [
    {
     "data": {
      "text/markdown": [
       "---\n",
       "\n",
       "[source](https://github.com/rkimura47/python-mdd/blob/main/python_mdd/mdd.py#L238){target=\"_blank\" style=\"float:right; font-size:smaller\"}\n",
       "\n",
       "### MDD.remove_arcs\n",
       "\n",
       ">      MDD.remove_arcs (rmvarcs:collections.abc.Iterable[__main__.MDDArc])\n",
       "\n",
       "*Remove arcs from the MDD, without any sanity checks.*\n",
       "\n",
       "|    | **Type** | **Details** |\n",
       "| -- | -------- | ----------- |\n",
       "| rmvarcs | Iterable | arcs to be removed |\n",
       "| **Returns** | **None** |  |"
      ],
      "text/plain": [
       "---\n",
       "\n",
       "[source](https://github.com/rkimura47/python-mdd/blob/main/python_mdd/mdd.py#L238){target=\"_blank\" style=\"float:right; font-size:smaller\"}\n",
       "\n",
       "### MDD.remove_arcs\n",
       "\n",
       ">      MDD.remove_arcs (rmvarcs:collections.abc.Iterable[__main__.MDDArc])\n",
       "\n",
       "*Remove arcs from the MDD, without any sanity checks.*\n",
       "\n",
       "|    | **Type** | **Details** |\n",
       "| -- | -------- | ----------- |\n",
       "| rmvarcs | Iterable | arcs to be removed |\n",
       "| **Returns** | **None** |  |"
      ]
     },
     "execution_count": null,
     "metadata": {},
     "output_type": "execute_result"
    }
   ],
   "source": [
    "show_doc(MDD.remove_arcs)"
   ]
  },
  {
   "cell_type": "code",
   "execution_count": null,
   "metadata": {},
   "outputs": [
    {
     "data": {
      "text/markdown": [
       "---\n",
       "\n",
       "[source](https://github.com/rkimura47/python-mdd/blob/main/python_mdd/mdd.py#L246){target=\"_blank\" style=\"float:right; font-size:smaller\"}\n",
       "\n",
       "### MDD.add_node\n",
       "\n",
       ">      MDD.add_node (newnode:__main__.MDDNode)\n",
       "\n",
       "*Add a node to the MDD, without any sanity checks.\n",
       "\n",
       "The node's layer should already exist in the MDD.\n",
       "\n",
       "NOTE: If an identical node already exists, its incoming and outgoing\n",
       "arcs will be ERASED!!!*\n",
       "\n",
       "|    | **Type** | **Details** |\n",
       "| -- | -------- | ----------- |\n",
       "| newnode | MDDNode | node to be added |\n",
       "| **Returns** | **None** |  |"
      ],
      "text/plain": [
       "---\n",
       "\n",
       "[source](https://github.com/rkimura47/python-mdd/blob/main/python_mdd/mdd.py#L246){target=\"_blank\" style=\"float:right; font-size:smaller\"}\n",
       "\n",
       "### MDD.add_node\n",
       "\n",
       ">      MDD.add_node (newnode:__main__.MDDNode)\n",
       "\n",
       "*Add a node to the MDD, without any sanity checks.\n",
       "\n",
       "The node's layer should already exist in the MDD.\n",
       "\n",
       "NOTE: If an identical node already exists, its incoming and outgoing\n",
       "arcs will be ERASED!!!*\n",
       "\n",
       "|    | **Type** | **Details** |\n",
       "| -- | -------- | ----------- |\n",
       "| newnode | MDDNode | node to be added |\n",
       "| **Returns** | **None** |  |"
      ]
     },
     "execution_count": null,
     "metadata": {},
     "output_type": "execute_result"
    }
   ],
   "source": [
    "show_doc(MDD.add_node)"
   ]
  },
  {
   "cell_type": "code",
   "execution_count": null,
   "metadata": {},
   "outputs": [
    {
     "data": {
      "text/markdown": [
       "---\n",
       "\n",
       "[source](https://github.com/rkimura47/python-mdd/blob/main/python_mdd/mdd.py#L259){target=\"_blank\" style=\"float:right; font-size:smaller\"}\n",
       "\n",
       "### MDD.add_nodes\n",
       "\n",
       ">      MDD.add_nodes (newnodes:collections.abc.Iterable[__main__.MDDNode])\n",
       "\n",
       "*Add nodes to the MDD, without any sanity checks.*\n",
       "\n",
       "|    | **Type** | **Details** |\n",
       "| -- | -------- | ----------- |\n",
       "| newnodes | Iterable | nodes to be added |\n",
       "| **Returns** | **None** |  |"
      ],
      "text/plain": [
       "---\n",
       "\n",
       "[source](https://github.com/rkimura47/python-mdd/blob/main/python_mdd/mdd.py#L259){target=\"_blank\" style=\"float:right; font-size:smaller\"}\n",
       "\n",
       "### MDD.add_nodes\n",
       "\n",
       ">      MDD.add_nodes (newnodes:collections.abc.Iterable[__main__.MDDNode])\n",
       "\n",
       "*Add nodes to the MDD, without any sanity checks.*\n",
       "\n",
       "|    | **Type** | **Details** |\n",
       "| -- | -------- | ----------- |\n",
       "| newnodes | Iterable | nodes to be added |\n",
       "| **Returns** | **None** |  |"
      ]
     },
     "execution_count": null,
     "metadata": {},
     "output_type": "execute_result"
    }
   ],
   "source": [
    "show_doc(MDD.add_nodes)"
   ]
  },
  {
   "cell_type": "code",
   "execution_count": null,
   "metadata": {},
   "outputs": [
    {
     "data": {
      "text/markdown": [
       "---\n",
       "\n",
       "[source](https://github.com/rkimura47/python-mdd/blob/main/python_mdd/mdd.py#L267){target=\"_blank\" style=\"float:right; font-size:smaller\"}\n",
       "\n",
       "### MDD.remove_node\n",
       "\n",
       ">      MDD.remove_node (rmvnode:__main__.MDDNode)\n",
       "\n",
       "*Remove a node from the MDD, without any sanity checks.*\n",
       "\n",
       "|    | **Type** | **Details** |\n",
       "| -- | -------- | ----------- |\n",
       "| rmvnode | MDDNode | node to be removed |\n",
       "| **Returns** | **None** |  |"
      ],
      "text/plain": [
       "---\n",
       "\n",
       "[source](https://github.com/rkimura47/python-mdd/blob/main/python_mdd/mdd.py#L267){target=\"_blank\" style=\"float:right; font-size:smaller\"}\n",
       "\n",
       "### MDD.remove_node\n",
       "\n",
       ">      MDD.remove_node (rmvnode:__main__.MDDNode)\n",
       "\n",
       "*Remove a node from the MDD, without any sanity checks.*\n",
       "\n",
       "|    | **Type** | **Details** |\n",
       "| -- | -------- | ----------- |\n",
       "| rmvnode | MDDNode | node to be removed |\n",
       "| **Returns** | **None** |  |"
      ]
     },
     "execution_count": null,
     "metadata": {},
     "output_type": "execute_result"
    }
   ],
   "source": [
    "show_doc(MDD.remove_node)"
   ]
  },
  {
   "cell_type": "code",
   "execution_count": null,
   "metadata": {},
   "outputs": [
    {
     "data": {
      "text/markdown": [
       "---\n",
       "\n",
       "[source](https://github.com/rkimura47/python-mdd/blob/main/python_mdd/mdd.py#L278){target=\"_blank\" style=\"float:right; font-size:smaller\"}\n",
       "\n",
       "### MDD.remove_nodes\n",
       "\n",
       ">      MDD.remove_nodes (rmvnodes:collections.abc.Iterable[__main__.MDDNode])\n",
       "\n",
       "*Remove nodes from the MDD, without any sanity checks.*\n",
       "\n",
       "|    | **Type** | **Details** |\n",
       "| -- | -------- | ----------- |\n",
       "| rmvnodes | Iterable | nodes to be removed |\n",
       "| **Returns** | **None** |  |"
      ],
      "text/plain": [
       "---\n",
       "\n",
       "[source](https://github.com/rkimura47/python-mdd/blob/main/python_mdd/mdd.py#L278){target=\"_blank\" style=\"float:right; font-size:smaller\"}\n",
       "\n",
       "### MDD.remove_nodes\n",
       "\n",
       ">      MDD.remove_nodes (rmvnodes:collections.abc.Iterable[__main__.MDDNode])\n",
       "\n",
       "*Remove nodes from the MDD, without any sanity checks.*\n",
       "\n",
       "|    | **Type** | **Details** |\n",
       "| -- | -------- | ----------- |\n",
       "| rmvnodes | Iterable | nodes to be removed |\n",
       "| **Returns** | **None** |  |"
      ]
     },
     "execution_count": null,
     "metadata": {},
     "output_type": "execute_result"
    }
   ],
   "source": [
    "show_doc(MDD.remove_nodes)"
   ]
  },
  {
   "cell_type": "markdown",
   "metadata": {},
   "source": [
    "To populate the MDD, you must first add the necessary layers, then the nodes and arcs. Note that the basic functions do not perform any sanity checks, so it's the programmer's responsibility to avoid errors."
   ]
  },
  {
   "cell_type": "code",
   "execution_count": null,
   "metadata": {},
   "outputs": [
    {
     "name": "stdout",
     "output_type": "stream",
     "text": [
      "mdd0 = == MDD (mdd, 1 layers) ==\n",
      "# Nodes\n",
      "L0: N_0((1, 2, 3))\n",
      "L1: N_1((1, 3))\n",
      "# (Outgoing) Arcs\n",
      "A(2,2:N_0((1, 2, 3)),N_1((1, 3)))\n"
     ]
    }
   ],
   "source": [
    "mdd0.append_new_layers(n=2)\n",
    "mdd0.add_nodes([n1, n2])\n",
    "mdd0.add_arc(a1_2)\n",
    "print(f\"mdd0 = {mdd0}\")"
   ]
  },
  {
   "cell_type": "code",
   "execution_count": null,
   "metadata": {},
   "outputs": [
    {
     "name": "stdout",
     "output_type": "stream",
     "text": [
      "== MDD (mdd, 1 layers) ==\n",
      "# Nodes\n",
      "L0: N_0(0)\n",
      "L1: N_1(1), N_1(2)\n",
      "# (Outgoing) Arcs\n",
      "A(0,0:N_0(0),N_1(1)), A(1,10:N_0(0),N_1(2))\n"
     ]
    }
   ],
   "source": [
    "#| hide\n",
    "def test_basic_mdd_operations() -> None:\n",
    "    mymdd = MDD()\n",
    "    test_eq(mymdd.numNodeLayers, 0)\n",
    "    test_eq(mymdd.numArcLayers, -1)\n",
    "    test_eq(list(mymdd.allnodes()), [])\n",
    "    \n",
    "    mymdd.append_new_layers()\n",
    "    mynode0 = MDDNode(0, 0)\n",
    "    mymdd.add_node(mynode0)\n",
    "    mymdd.append_new_layers()\n",
    "    test_eq(mymdd.widthList, [1,0])\n",
    "    \n",
    "    mynode1 = MDDNode(1, 1)\n",
    "    mymdd.add_node(mynode1)\n",
    "    mynode2 = MDDNode(1, 2)\n",
    "    mymdd.add_node(mynode2)\n",
    "    test_eq(mymdd.numNodeLayers, 2)\n",
    "    test_eq(mymdd.widthList, [1,2])\n",
    "    test_eq(mymdd.maxWidth, 2)\n",
    "    \n",
    "    myarc0_1 = MDDArc(0, 0, mynode0, mynode1)\n",
    "    myarc0_2 = MDDArc(1, 10, mynode0, mynode2)\n",
    "    mymdd.add_arc(myarc0_1)\n",
    "    mymdd.add_arc(myarc0_2)\n",
    "    test_eq(list(mymdd.alloutgoingarcs()), [myarc0_1, myarc0_2])\n",
    "    test_eq(list(mymdd.allincomingarcs()), [myarc0_1, myarc0_2])\n",
    "    print(mymdd)\n",
    "    \n",
    "    mymdd.remove_node(mynode2)\n",
    "    assert mynode2 not in list(mymdd.allnodes())\n",
    "    test_eq(list(mymdd.alloutgoingarcs()), [myarc0_1])\n",
    "    test_eq(list(mymdd.allincomingarcs()), [myarc0_1])\n",
    "\n",
    "test_basic_mdd_operations()"
   ]
  },
  {
   "cell_type": "code",
   "execution_count": null,
   "metadata": {},
   "outputs": [
    {
     "data": {
      "text/markdown": [
       "---\n",
       "\n",
       "[source](https://github.com/rkimura47/python-mdd/blob/main/python_mdd/mdd.py#L291){target=\"_blank\" style=\"float:right; font-size:smaller\"}\n",
       "\n",
       "### MDD.merge_nodes\n",
       "\n",
       ">      MDD.merge_nodes (mnodes:collections.abc.Collection[__main__.MDDNode],\n",
       ">                       mlayer:int, nsfun:collections.abc.Callable[[collections.\n",
       ">                       abc.Collection[collections.abc.Hashable],int],collection\n",
       ">                       s.abc.Hashable], awinfun:Optional[collections.abc.Callab\n",
       ">                       le[[float,collections.abc.Hashable,collections.abc.Hasha\n",
       ">                       ble,int],float]]=None, awoutfun:Optional[collections.abc\n",
       ">                       .Callable[[float,collections.abc.Hashable,collections.ab\n",
       ">                       c.Hashable,int],float]]=None)\n",
       "\n",
       "*Merge specified nodes into a new supernode, and modify arcs appropriately.\n",
       "\n",
       "NOTE: All nodes to be merged must be located on the same layer.*\n",
       "\n",
       "|    | **Type** | **Default** | **Details** |\n",
       "| -- | -------- | ----------- | ----------- |\n",
       "| mnodes | Collection |  | nodes to be merged together |\n",
       "| mlayer | int |  | layer containing all nodes to be merged |\n",
       "| nsfun | Callable |  | nsfun(slist,j) returns the node state resulting from merging node states in 'slist' in layer 'j' |\n",
       "| awinfun | Optional | None | awinfun(w,os,ms,j) returns the adjusted weight of an arc with weight 'w', old head node state 'os', and new head node (i.e., merged supernode in layer 'j') state 'ms';<br>if awfun is None (default), the original weight is used |\n",
       "| awoutfun | Optional | None | awoutfun(w,os,ms,j) returns the adjusted weight of an arc with weight 'w', old tail node state 'os', and new tail node (i.e., merged supernode in layer 'j') state 'ms';<br>if awoutfun is None (default), the original weight is used |\n",
       "| **Returns** | **MDDNode** |  | **new merged supernode** |"
      ],
      "text/plain": [
       "---\n",
       "\n",
       "[source](https://github.com/rkimura47/python-mdd/blob/main/python_mdd/mdd.py#L291){target=\"_blank\" style=\"float:right; font-size:smaller\"}\n",
       "\n",
       "### MDD.merge_nodes\n",
       "\n",
       ">      MDD.merge_nodes (mnodes:collections.abc.Collection[__main__.MDDNode],\n",
       ">                       mlayer:int, nsfun:collections.abc.Callable[[collections.\n",
       ">                       abc.Collection[collections.abc.Hashable],int],collection\n",
       ">                       s.abc.Hashable], awinfun:Optional[collections.abc.Callab\n",
       ">                       le[[float,collections.abc.Hashable,collections.abc.Hasha\n",
       ">                       ble,int],float]]=None, awoutfun:Optional[collections.abc\n",
       ">                       .Callable[[float,collections.abc.Hashable,collections.ab\n",
       ">                       c.Hashable,int],float]]=None)\n",
       "\n",
       "*Merge specified nodes into a new supernode, and modify arcs appropriately.\n",
       "\n",
       "NOTE: All nodes to be merged must be located on the same layer.*\n",
       "\n",
       "|    | **Type** | **Default** | **Details** |\n",
       "| -- | -------- | ----------- | ----------- |\n",
       "| mnodes | Collection |  | nodes to be merged together |\n",
       "| mlayer | int |  | layer containing all nodes to be merged |\n",
       "| nsfun | Callable |  | nsfun(slist,j) returns the node state resulting from merging node states in 'slist' in layer 'j' |\n",
       "| awinfun | Optional | None | awinfun(w,os,ms,j) returns the adjusted weight of an arc with weight 'w', old head node state 'os', and new head node (i.e., merged supernode in layer 'j') state 'ms';<br>if awfun is None (default), the original weight is used |\n",
       "| awoutfun | Optional | None | awoutfun(w,os,ms,j) returns the adjusted weight of an arc with weight 'w', old tail node state 'os', and new tail node (i.e., merged supernode in layer 'j') state 'ms';<br>if awoutfun is None (default), the original weight is used |\n",
       "| **Returns** | **MDDNode** |  | **new merged supernode** |"
      ]
     },
     "execution_count": null,
     "metadata": {},
     "output_type": "execute_result"
    }
   ],
   "source": [
    "show_doc(MDD.merge_nodes)"
   ]
  },
  {
   "cell_type": "markdown",
   "metadata": {},
   "source": [
    "You can merge nodes in an MDD to reduce its size. Depending on the merging rule, this will typically result in an relaxation or restriction of the original MDD. The basic `merge_nodes()` function is configured based on node state functions, and is quite flexible. However, it can only merge nodes on the same layer."
   ]
  },
  {
   "cell_type": "code",
   "execution_count": null,
   "metadata": {},
   "outputs": [
    {
     "name": "stdout",
     "output_type": "stream",
     "text": [
      "== MDD (mdd, 2 layers) ==\n",
      "# Nodes\n",
      "L0: N_0(0)\n",
      "L1: N_1(1), N_1(2), N_1(3)\n",
      "L2: N_2(4)\n",
      "# (Outgoing) Arcs\n",
      "A(1,1:N_0(0),N_1(1)), A(2,2:N_0(0),N_1(2)), A(3,3:N_0(0),N_1(3)), A(1,-1:N_1(1),N_2(4)), A(2,-2:N_1(2),N_2(4)), A(3,-3:N_1(3),N_2(4))\n",
      "\n",
      "== MDD (mdd, 2 layers) ==\n",
      "# Nodes\n",
      "L0: N_0(0)\n",
      "L1: N_1(3)\n",
      "L2: N_2(4)\n",
      "# (Outgoing) Arcs\n",
      "A(1,1:N_0(0),N_1(3)), A(2,2:N_0(0),N_1(3)), A(3,3:N_0(0),N_1(3)), A(1,-1:N_1(3),N_2(4)), A(2,-2:N_1(3),N_2(4)), A(3,-3:N_1(3),N_2(4))\n"
     ]
    }
   ],
   "source": [
    "def test_merge_nodes() -> None:\n",
    "    mymdd = MDD()\n",
    "    mymdd.append_new_layers()\n",
    "    n0 = MDDNode(0, 0)\n",
    "    mymdd.add_node(n0)\n",
    "    mymdd.append_new_layers()\n",
    "    n1 = MDDNode(1, 1)\n",
    "    n2 = MDDNode(1, 2)\n",
    "    n3 = MDDNode(1, 3)\n",
    "    mymdd.add_nodes([n1, n2, n3])\n",
    "    mymdd.append_new_layers()\n",
    "    n4 = MDDNode(2, 4)\n",
    "    mymdd.add_node(n4)\n",
    "    a0_1 = MDDArc(1, 1, n0, n1)\n",
    "    a0_2 = MDDArc(2, 2, n0, n2)\n",
    "    a0_3 = MDDArc(3, 3, n0, n3)\n",
    "    a1_4 = MDDArc(1, -1, n1, n4)\n",
    "    a2_4 = MDDArc(2, -2, n2, n4)\n",
    "    a3_4 = MDDArc(3, -3, n3, n4)\n",
    "    mymdd.add_arcs([a0_1, a0_2, a0_3, a1_4, a2_4, a3_4])\n",
    "    print(mymdd)\n",
    "    print()\n",
    "    mymdd.merge_nodes([n1, n2, n3], 1, lambda ns, l: max(s for s in ns))\n",
    "    print(mymdd)\n",
    "\n",
    "test_merge_nodes()"
   ]
  },
  {
   "cell_type": "code",
   "execution_count": null,
   "metadata": {},
   "outputs": [
    {
     "name": "stdout",
     "output_type": "stream",
     "text": [
      "== MDD (mdd, 1 layers) ==\n",
      "# Nodes\n",
      "L0: N_0(0)\n",
      "L1: N_1(2), N_1(1)\n",
      "# (Outgoing) Arcs\n",
      "\n"
     ]
    }
   ],
   "source": [
    "#| hide\n",
    "def test_merge_one_node() -> None:\n",
    "    mymdd = MDD()\n",
    "    mymdd.append_new_layers()\n",
    "    mymdd.add_node(MDDNode(0, 0))\n",
    "    mymdd.append_new_layers()\n",
    "    n1 = MDDNode(1, 1)\n",
    "    n2 = MDDNode(1, 2)\n",
    "    mymdd.add_nodes([n1, n2])\n",
    "    mymdd.merge_nodes([n1], 1, lambda ns, l: max(s for s in ns))\n",
    "    print(mymdd)\n",
    "\n",
    "test_merge_one_node()"
   ]
  },
  {
   "cell_type": "markdown",
   "metadata": {},
   "source": [
    "While `MDD` does not explicitly forbid \"skip arcs\" (arcs that connect nodes in non-adjacent layers), most functionality is designed assuming there are no skip arcs."
   ]
  },
  {
   "cell_type": "code",
   "execution_count": null,
   "metadata": {},
   "outputs": [
    {
     "name": "stdout",
     "output_type": "stream",
     "text": [
      "== MDD (mdd, 3 layers) ==\n",
      "# Nodes\n",
      "L0: N_0(0)\n",
      "L1: N_1(1)\n",
      "L2: N_2(2)\n",
      "L3: N_3(3)\n",
      "# (Outgoing) Arcs\n",
      "A(1,1:N_0(0),N_1(1)), A(2,2:N_1(1),N_2(2)), A(2,2:N_2(2),N_3(3))\n",
      "Success: Caught KeyError as expected\n",
      "MDDNode(layer=1, state=1)\n"
     ]
    }
   ],
   "source": [
    "def test_merge_skip_arcs_fails() -> None:\n",
    "    mymdd = MDD()\n",
    "    mymdd.append_new_layers(4)\n",
    "    n0 = MDDNode(0, 0)\n",
    "    n1 = MDDNode(1, 1)\n",
    "    n2 = MDDNode(2, 2)\n",
    "    n3 = MDDNode(3, 3)\n",
    "    mymdd.add_nodes([n0, n1, n2, n3])\n",
    "    mymdd.add_arcs([MDDArc(1, 1, n0, n1), MDDArc(2, 2, n1, n2), MDDArc(2, 2, n2, n3)])\n",
    "    print(mymdd)\n",
    "    try:\n",
    "        mymdd.merge_nodes([n1, n2], 1, lambda ns, l: max(ns))\n",
    "        print(mymdd)\n",
    "        raise ValueError(\"Expected KeyError\")\n",
    "    except KeyError as e:\n",
    "        print(\"Success: Caught KeyError as expected\")\n",
    "        print(e)\n",
    "\n",
    "test_merge_skip_arcs_fails()"
   ]
  },
  {
   "cell_type": "code",
   "execution_count": null,
   "metadata": {},
   "outputs": [
    {
     "name": "stdout",
     "output_type": "stream",
     "text": [
      "== MDD (mdd, 3 layers) ==\n",
      "# Nodes\n",
      "L0: N_0(0)\n",
      "L1: N_1(1)\n",
      "L2: N_2(2)\n",
      "L3: N_3(3)\n",
      "# (Outgoing) Arcs\n",
      "A(1,1:N_0(0),N_1(1)), A(2,2:N_0(0),N_2(2)), A(2,2:N_1(1),N_3(3)), A(1,1:N_2(2),N_3(3))\n",
      "== MDD (mdd, 3 layers) ==\n",
      "# Nodes\n",
      "L0: N_0(0)\n",
      "L1: \n",
      "L2: N_2(2)\n",
      "L3: N_3(3)\n",
      "# (Outgoing) Arcs\n",
      "A(1,1:N_0(0),N_2(2)), A(2,2:N_0(0),N_2(2)), A(2,2:N_2(2),N_3(3)), A(1,1:N_2(2),N_3(3))\n"
     ]
    }
   ],
   "source": [
    "def test_merge_skip_arcs_works_sometimes() -> None:\n",
    "    mymdd = MDD()\n",
    "    mymdd.append_new_layers(4)\n",
    "    n0 = MDDNode(0, 0)\n",
    "    n1 = MDDNode(1, 1)\n",
    "    n2 = MDDNode(2, 2)\n",
    "    n3 = MDDNode(3, 3)\n",
    "    mymdd.add_nodes([n0, n1, n2, n3])\n",
    "    mymdd.add_arcs([MDDArc(1, 1, n0, n1), MDDArc(2, 2, n0, n2), MDDArc(2, 2, n1, n3), MDDArc(1, 1, n2, n3)])\n",
    "    print(mymdd)\n",
    "    mymdd.merge_nodes([n1, n2], 2, lambda ns, l: max(ns))\n",
    "    print(mymdd)\n",
    "\n",
    "test_merge_skip_arcs_works_sometimes()"
   ]
  },
  {
   "cell_type": "code",
   "execution_count": null,
   "metadata": {},
   "outputs": [],
   "source": [
    "#| hide\n",
    "import nbdev; nbdev.nbdev_export()"
   ]
  }
 ],
 "metadata": {
  "kernelspec": {
   "display_name": "python3",
   "language": "python",
   "name": "python3"
  }
 },
 "nbformat": 4,
 "nbformat_minor": 4
}
