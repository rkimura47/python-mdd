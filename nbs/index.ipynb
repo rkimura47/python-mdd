{
 "cells": [
  {
   "cell_type": "code",
   "execution_count": null,
   "metadata": {},
   "outputs": [],
   "source": [
    "#| hide\n",
    "from python_mdd.mdd import *"
   ]
  },
  {
   "cell_type": "markdown",
   "metadata": {},
   "source": [
    "# python-mdd\n",
    "\n",
    "> A simple python implementation of multivalued decision diagrams for optimization"
   ]
  },
  {
   "cell_type": "markdown",
   "metadata": {},
   "source": [
    "This file will become your README and also the index of your documentation."
   ]
  },
  {
   "cell_type": "markdown",
   "metadata": {},
   "source": [
    "## Install"
   ]
  },
  {
   "cell_type": "markdown",
   "metadata": {},
   "source": [
    "```sh\n",
    "pip install python_mdd\n",
    "```"
   ]
  },
  {
   "cell_type": "markdown",
   "metadata": {},
   "source": [
    "## How to use"
   ]
  },
  {
   "cell_type": "markdown",
   "metadata": {},
   "source": [
    "Fill me in please! Don't forget code examples:"
   ]
  },
  {
   "cell_type": "code",
   "execution_count": null,
   "metadata": {},
   "outputs": [
    {
     "data": {
      "text/plain": [
       "2"
      ]
     },
     "execution_count": null,
     "metadata": {},
     "output_type": "execute_result"
    }
   ],
   "source": [
    "1+1"
   ]
  },
  {
   "cell_type": "code",
   "execution_count": null,
   "metadata": {},
   "outputs": [],
   "source": []
  },
  {
   "cell_type": "markdown",
   "metadata": {},
   "source": [
    "## Development"
   ]
  },
  {
   "cell_type": "markdown",
   "metadata": {},
   "source": [
    "This repo is set up using [nbdev](https://nbdev.fast.ai/), a Jupyter notebook-driven software development platform especially suited to creating Python packages with extensive, high-quality documentation. Additionally, the [Docker](https://docs.docker.com/manuals/) files provide a complete containerized JupyterLab environment for development."
   ]
  },
  {
   "cell_type": "markdown",
   "metadata": {},
   "source": [
    "At a high level, the development workflow of nbdev can be summarized as follows:\n",
    " 1. Directly edit module source code / documentation in notebook files in `nbs/`.\n",
    " 2. \"Restart the kernel and run all cells\" to run the entire Notebook and check for errors.\n",
    " 3. Check the generated documentation via `nbdev_preview`.\n",
    " 4. Once you're ready to commit changes, run the entire notebook, save, close it, then confirm via Git.\n",
    "     1. You can also manually run `nbdev_clean` then `nbdev_export`.\n",
    "   \n",
    "Notably, `README.md` and the files in `python_mdd/` should NOT be manually edited; instead, they should be generated based on notebook files in `nbs/`.\n",
    "\n",
    "See the [nbdev documentation](https://nbdev.fast.ai/tutorials/) for additional details on software development using nbdev."
   ]
  },
  {
   "cell_type": "markdown",
   "metadata": {},
   "source": [
    "To spin up the containerized JupyterLab server, run (from the repo root)\n",
    "```\n",
    "docker compose up server\n",
    "```\n",
    "To take it down, run (from the repo root)\n",
    "```\n",
    "docker compose down\n",
    "```"
   ]
  },
  {
   "cell_type": "markdown",
   "metadata": {},
   "source": [
    "Some notable quirks of this particular containerized setup:\n",
    "  - `nbdev_preview` is configured to output to `0.0.0.0:3000` (and will say so in the console output), but it's actually outputting to `localhost:3000` (from the perspective of the host machine). This is due to the command being run from within a container.\n",
    "  - The outputs of Jupyter notebooks are cleaned on save via nbdev's Jupyter hook. Note that this may not be (is usually not) immediately reflected in the JupyterLab web interface.\n",
    "  - On container start-up, the repo package is installed in editable mode with the command `pip install -e '.[dev]'` to ensure it can be accessed from any notebook.\n",
    "\n",
    "Alternatively, any software development environment set up to work with the nbdev platform should also be sufficient."
   ]
  }
 ],
 "metadata": {
  "kernelspec": {
   "display_name": "python3",
   "language": "python",
   "name": "python3"
  }
 },
 "nbformat": 4,
 "nbformat_minor": 4
}
